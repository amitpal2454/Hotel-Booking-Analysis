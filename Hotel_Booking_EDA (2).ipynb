{
  "cells": [
    {
      "cell_type": "code",
      "execution_count": null,
      "metadata": {
        "id": "27k4VuX2v5EG"
      },
      "outputs": [],
      "source": []
    },
    {
      "cell_type": "markdown",
      "metadata": {
        "id": "efNaWD7UwUor"
      },
      "source": [
        "###**Projec**t **Name** -- Hotel Booking Analysis"
      ]
    },
    {
      "cell_type": "markdown",
      "metadata": {
        "id": "eHdZTiHcwkJr"
      },
      "source": [
        "Contribution : Team Snake\n",
        "\n",
        "Team Member 1 : AMIT PAL\n",
        "\n",
        "Team Member 2 : Ashish Kumar\n",
        "\n",
        "Team Member 3 :Suman Das\n",
        "\n",
        "Team Member 4 : Pratik Gaikwad"
      ]
    },
    {
      "cell_type": "markdown",
      "metadata": {
        "id": "D-JE9qJYwz18"
      },
      "source": [
        "####**Project Summary**"
      ]
    },
    {
      "cell_type": "markdown",
      "metadata": {
        "id": "afk52AbZw9VL"
      },
      "source": [
        "Hotel booking Analysis is the  modern probem solution for  consumer quering for thr best time to book a Hotel and as well as for Business also how they can  attract more customers .we will look individual one by one feature how they are important for solving this problem .\n",
        "\n",
        "So Here main task is to use this data to produce some results that are useful to business, such as the best time to book a hotel, which hotels generate the most revenue, whether weekend bookings are affected, the cancellation rate, the typical number of days a user books a hotel, the reasons for which hotel types have higher cancellation rates, etc.\n",
        "\n",
        "Here i am using numpy,pandas ,matplotlib and seaborn to explore and visualizing the data"
      ]
    },
    {
      "cell_type": "markdown",
      "metadata": {
        "id": "Q0lTqiO2zTkI"
      },
      "source": [
        "###**GitHub link**"
      ]
    },
    {
      "cell_type": "markdown",
      "metadata": {
        "id": "M8Q8yIA91fUz"
      },
      "source": [
        "https://github.com/amitpal2454/Hotel-Booking-Analysis"
      ]
    },
    {
      "cell_type": "markdown",
      "metadata": {
        "id": "z-geWTFzzmbQ"
      },
      "source": [
        "####**Problem Statement**"
      ]
    },
    {
      "cell_type": "markdown",
      "metadata": {
        "id": "H7aWXM4D0pa0"
      },
      "source": [
        "Understand hotel booking pattern and give fruitfull option for customer as well as Stakeholders"
      ]
    },
    {
      "cell_type": "markdown",
      "metadata": {
        "id": "bhj04Xo91ank"
      },
      "source": [
        "###Know your DATA"
      ]
    },
    {
      "cell_type": "code",
      "execution_count": null,
      "metadata": {
        "id": "J1cJVdOC192d"
      },
      "outputs": [],
      "source": [
        "import pandas as pd\n",
        "import numpy as np\n",
        "import seaborn as sns\n",
        "import matplotlib.pyplot as plt"
      ]
    },
    {
      "cell_type": "code",
      "execution_count": null,
      "metadata": {
        "id": "FnjwJaqsze59"
      },
      "outputs": [],
      "source": [
        "df=pd.read_csv('/content/drive/MyDrive/Colab Notebooks/Python/Week_1/AlmaBetter_Project/Hotel Bookings.csv')\n"
      ]
    },
    {
      "cell_type": "code",
      "execution_count": null,
      "metadata": {
        "colab": {
          "base_uri": "https://localhost:8080/",
          "height": 386
        },
        "id": "EhAfH67c3kw3",
        "outputId": "c2c60947-c569-427d-b90c-2ef4d0c6cf06"
      },
      "outputs": [
        {
          "output_type": "execute_result",
          "data": {
            "text/plain": [
              "          hotel  is_canceled  lead_time  arrival_date_year arrival_date_month  \\\n",
              "0  Resort Hotel            0        342               2015               July   \n",
              "1  Resort Hotel            0        737               2015               July   \n",
              "2  Resort Hotel            0          7               2015               July   \n",
              "3  Resort Hotel            0         13               2015               July   \n",
              "4  Resort Hotel            0         14               2015               July   \n",
              "\n",
              "   arrival_date_week_number  arrival_date_day_of_month  \\\n",
              "0                        27                          1   \n",
              "1                        27                          1   \n",
              "2                        27                          1   \n",
              "3                        27                          1   \n",
              "4                        27                          1   \n",
              "\n",
              "   stays_in_weekend_nights  stays_in_week_nights  adults  ...  deposit_type  \\\n",
              "0                        0                     0       2  ...    No Deposit   \n",
              "1                        0                     0       2  ...    No Deposit   \n",
              "2                        0                     1       1  ...    No Deposit   \n",
              "3                        0                     1       1  ...    No Deposit   \n",
              "4                        0                     2       2  ...    No Deposit   \n",
              "\n",
              "   agent company days_in_waiting_list customer_type   adr  \\\n",
              "0    NaN     NaN                    0     Transient   0.0   \n",
              "1    NaN     NaN                    0     Transient   0.0   \n",
              "2    NaN     NaN                    0     Transient  75.0   \n",
              "3  304.0     NaN                    0     Transient  75.0   \n",
              "4  240.0     NaN                    0     Transient  98.0   \n",
              "\n",
              "   required_car_parking_spaces  total_of_special_requests  reservation_status  \\\n",
              "0                            0                          0           Check-Out   \n",
              "1                            0                          0           Check-Out   \n",
              "2                            0                          0           Check-Out   \n",
              "3                            0                          0           Check-Out   \n",
              "4                            0                          1           Check-Out   \n",
              "\n",
              "  reservation_status_date  \n",
              "0              2015-07-01  \n",
              "1              2015-07-01  \n",
              "2              2015-07-02  \n",
              "3              2015-07-02  \n",
              "4              2015-07-03  \n",
              "\n",
              "[5 rows x 32 columns]"
            ],
            "text/html": [
              "\n",
              "  <div id=\"df-f36cb386-b943-4940-9c10-6fa39a189bb2\">\n",
              "    <div class=\"colab-df-container\">\n",
              "      <div>\n",
              "<style scoped>\n",
              "    .dataframe tbody tr th:only-of-type {\n",
              "        vertical-align: middle;\n",
              "    }\n",
              "\n",
              "    .dataframe tbody tr th {\n",
              "        vertical-align: top;\n",
              "    }\n",
              "\n",
              "    .dataframe thead th {\n",
              "        text-align: right;\n",
              "    }\n",
              "</style>\n",
              "<table border=\"1\" class=\"dataframe\">\n",
              "  <thead>\n",
              "    <tr style=\"text-align: right;\">\n",
              "      <th></th>\n",
              "      <th>hotel</th>\n",
              "      <th>is_canceled</th>\n",
              "      <th>lead_time</th>\n",
              "      <th>arrival_date_year</th>\n",
              "      <th>arrival_date_month</th>\n",
              "      <th>arrival_date_week_number</th>\n",
              "      <th>arrival_date_day_of_month</th>\n",
              "      <th>stays_in_weekend_nights</th>\n",
              "      <th>stays_in_week_nights</th>\n",
              "      <th>adults</th>\n",
              "      <th>...</th>\n",
              "      <th>deposit_type</th>\n",
              "      <th>agent</th>\n",
              "      <th>company</th>\n",
              "      <th>days_in_waiting_list</th>\n",
              "      <th>customer_type</th>\n",
              "      <th>adr</th>\n",
              "      <th>required_car_parking_spaces</th>\n",
              "      <th>total_of_special_requests</th>\n",
              "      <th>reservation_status</th>\n",
              "      <th>reservation_status_date</th>\n",
              "    </tr>\n",
              "  </thead>\n",
              "  <tbody>\n",
              "    <tr>\n",
              "      <th>0</th>\n",
              "      <td>Resort Hotel</td>\n",
              "      <td>0</td>\n",
              "      <td>342</td>\n",
              "      <td>2015</td>\n",
              "      <td>July</td>\n",
              "      <td>27</td>\n",
              "      <td>1</td>\n",
              "      <td>0</td>\n",
              "      <td>0</td>\n",
              "      <td>2</td>\n",
              "      <td>...</td>\n",
              "      <td>No Deposit</td>\n",
              "      <td>NaN</td>\n",
              "      <td>NaN</td>\n",
              "      <td>0</td>\n",
              "      <td>Transient</td>\n",
              "      <td>0.0</td>\n",
              "      <td>0</td>\n",
              "      <td>0</td>\n",
              "      <td>Check-Out</td>\n",
              "      <td>2015-07-01</td>\n",
              "    </tr>\n",
              "    <tr>\n",
              "      <th>1</th>\n",
              "      <td>Resort Hotel</td>\n",
              "      <td>0</td>\n",
              "      <td>737</td>\n",
              "      <td>2015</td>\n",
              "      <td>July</td>\n",
              "      <td>27</td>\n",
              "      <td>1</td>\n",
              "      <td>0</td>\n",
              "      <td>0</td>\n",
              "      <td>2</td>\n",
              "      <td>...</td>\n",
              "      <td>No Deposit</td>\n",
              "      <td>NaN</td>\n",
              "      <td>NaN</td>\n",
              "      <td>0</td>\n",
              "      <td>Transient</td>\n",
              "      <td>0.0</td>\n",
              "      <td>0</td>\n",
              "      <td>0</td>\n",
              "      <td>Check-Out</td>\n",
              "      <td>2015-07-01</td>\n",
              "    </tr>\n",
              "    <tr>\n",
              "      <th>2</th>\n",
              "      <td>Resort Hotel</td>\n",
              "      <td>0</td>\n",
              "      <td>7</td>\n",
              "      <td>2015</td>\n",
              "      <td>July</td>\n",
              "      <td>27</td>\n",
              "      <td>1</td>\n",
              "      <td>0</td>\n",
              "      <td>1</td>\n",
              "      <td>1</td>\n",
              "      <td>...</td>\n",
              "      <td>No Deposit</td>\n",
              "      <td>NaN</td>\n",
              "      <td>NaN</td>\n",
              "      <td>0</td>\n",
              "      <td>Transient</td>\n",
              "      <td>75.0</td>\n",
              "      <td>0</td>\n",
              "      <td>0</td>\n",
              "      <td>Check-Out</td>\n",
              "      <td>2015-07-02</td>\n",
              "    </tr>\n",
              "    <tr>\n",
              "      <th>3</th>\n",
              "      <td>Resort Hotel</td>\n",
              "      <td>0</td>\n",
              "      <td>13</td>\n",
              "      <td>2015</td>\n",
              "      <td>July</td>\n",
              "      <td>27</td>\n",
              "      <td>1</td>\n",
              "      <td>0</td>\n",
              "      <td>1</td>\n",
              "      <td>1</td>\n",
              "      <td>...</td>\n",
              "      <td>No Deposit</td>\n",
              "      <td>304.0</td>\n",
              "      <td>NaN</td>\n",
              "      <td>0</td>\n",
              "      <td>Transient</td>\n",
              "      <td>75.0</td>\n",
              "      <td>0</td>\n",
              "      <td>0</td>\n",
              "      <td>Check-Out</td>\n",
              "      <td>2015-07-02</td>\n",
              "    </tr>\n",
              "    <tr>\n",
              "      <th>4</th>\n",
              "      <td>Resort Hotel</td>\n",
              "      <td>0</td>\n",
              "      <td>14</td>\n",
              "      <td>2015</td>\n",
              "      <td>July</td>\n",
              "      <td>27</td>\n",
              "      <td>1</td>\n",
              "      <td>0</td>\n",
              "      <td>2</td>\n",
              "      <td>2</td>\n",
              "      <td>...</td>\n",
              "      <td>No Deposit</td>\n",
              "      <td>240.0</td>\n",
              "      <td>NaN</td>\n",
              "      <td>0</td>\n",
              "      <td>Transient</td>\n",
              "      <td>98.0</td>\n",
              "      <td>0</td>\n",
              "      <td>1</td>\n",
              "      <td>Check-Out</td>\n",
              "      <td>2015-07-03</td>\n",
              "    </tr>\n",
              "  </tbody>\n",
              "</table>\n",
              "<p>5 rows × 32 columns</p>\n",
              "</div>\n",
              "      <button class=\"colab-df-convert\" onclick=\"convertToInteractive('df-f36cb386-b943-4940-9c10-6fa39a189bb2')\"\n",
              "              title=\"Convert this dataframe to an interactive table.\"\n",
              "              style=\"display:none;\">\n",
              "        \n",
              "  <svg xmlns=\"http://www.w3.org/2000/svg\" height=\"24px\"viewBox=\"0 0 24 24\"\n",
              "       width=\"24px\">\n",
              "    <path d=\"M0 0h24v24H0V0z\" fill=\"none\"/>\n",
              "    <path d=\"M18.56 5.44l.94 2.06.94-2.06 2.06-.94-2.06-.94-.94-2.06-.94 2.06-2.06.94zm-11 1L8.5 8.5l.94-2.06 2.06-.94-2.06-.94L8.5 2.5l-.94 2.06-2.06.94zm10 10l.94 2.06.94-2.06 2.06-.94-2.06-.94-.94-2.06-.94 2.06-2.06.94z\"/><path d=\"M17.41 7.96l-1.37-1.37c-.4-.4-.92-.59-1.43-.59-.52 0-1.04.2-1.43.59L10.3 9.45l-7.72 7.72c-.78.78-.78 2.05 0 2.83L4 21.41c.39.39.9.59 1.41.59.51 0 1.02-.2 1.41-.59l7.78-7.78 2.81-2.81c.8-.78.8-2.07 0-2.86zM5.41 20L4 18.59l7.72-7.72 1.47 1.35L5.41 20z\"/>\n",
              "  </svg>\n",
              "      </button>\n",
              "      \n",
              "  <style>\n",
              "    .colab-df-container {\n",
              "      display:flex;\n",
              "      flex-wrap:wrap;\n",
              "      gap: 12px;\n",
              "    }\n",
              "\n",
              "    .colab-df-convert {\n",
              "      background-color: #E8F0FE;\n",
              "      border: none;\n",
              "      border-radius: 50%;\n",
              "      cursor: pointer;\n",
              "      display: none;\n",
              "      fill: #1967D2;\n",
              "      height: 32px;\n",
              "      padding: 0 0 0 0;\n",
              "      width: 32px;\n",
              "    }\n",
              "\n",
              "    .colab-df-convert:hover {\n",
              "      background-color: #E2EBFA;\n",
              "      box-shadow: 0px 1px 2px rgba(60, 64, 67, 0.3), 0px 1px 3px 1px rgba(60, 64, 67, 0.15);\n",
              "      fill: #174EA6;\n",
              "    }\n",
              "\n",
              "    [theme=dark] .colab-df-convert {\n",
              "      background-color: #3B4455;\n",
              "      fill: #D2E3FC;\n",
              "    }\n",
              "\n",
              "    [theme=dark] .colab-df-convert:hover {\n",
              "      background-color: #434B5C;\n",
              "      box-shadow: 0px 1px 3px 1px rgba(0, 0, 0, 0.15);\n",
              "      filter: drop-shadow(0px 1px 2px rgba(0, 0, 0, 0.3));\n",
              "      fill: #FFFFFF;\n",
              "    }\n",
              "  </style>\n",
              "\n",
              "      <script>\n",
              "        const buttonEl =\n",
              "          document.querySelector('#df-f36cb386-b943-4940-9c10-6fa39a189bb2 button.colab-df-convert');\n",
              "        buttonEl.style.display =\n",
              "          google.colab.kernel.accessAllowed ? 'block' : 'none';\n",
              "\n",
              "        async function convertToInteractive(key) {\n",
              "          const element = document.querySelector('#df-f36cb386-b943-4940-9c10-6fa39a189bb2');\n",
              "          const dataTable =\n",
              "            await google.colab.kernel.invokeFunction('convertToInteractive',\n",
              "                                                     [key], {});\n",
              "          if (!dataTable) return;\n",
              "\n",
              "          const docLinkHtml = 'Like what you see? Visit the ' +\n",
              "            '<a target=\"_blank\" href=https://colab.research.google.com/notebooks/data_table.ipynb>data table notebook</a>'\n",
              "            + ' to learn more about interactive tables.';\n",
              "          element.innerHTML = '';\n",
              "          dataTable['output_type'] = 'display_data';\n",
              "          await google.colab.output.renderOutput(dataTable, element);\n",
              "          const docLink = document.createElement('div');\n",
              "          docLink.innerHTML = docLinkHtml;\n",
              "          element.appendChild(docLink);\n",
              "        }\n",
              "      </script>\n",
              "    </div>\n",
              "  </div>\n",
              "  "
            ]
          },
          "metadata": {},
          "execution_count": 3
        }
      ],
      "source": [
        "df.head()"
      ]
    },
    {
      "cell_type": "code",
      "execution_count": null,
      "metadata": {
        "colab": {
          "base_uri": "https://localhost:8080/",
          "height": 386
        },
        "id": "o9oDCZIf7Rik",
        "outputId": "e3dc5378-c8f5-46df-9d4f-705d7635bd08"
      },
      "outputs": [
        {
          "output_type": "execute_result",
          "data": {
            "text/plain": [
              "             hotel  is_canceled  lead_time  arrival_date_year  \\\n",
              "119385  City Hotel            0         23               2017   \n",
              "119386  City Hotel            0        102               2017   \n",
              "119387  City Hotel            0         34               2017   \n",
              "119388  City Hotel            0        109               2017   \n",
              "119389  City Hotel            0        205               2017   \n",
              "\n",
              "       arrival_date_month  arrival_date_week_number  \\\n",
              "119385             August                        35   \n",
              "119386             August                        35   \n",
              "119387             August                        35   \n",
              "119388             August                        35   \n",
              "119389             August                        35   \n",
              "\n",
              "        arrival_date_day_of_month  stays_in_weekend_nights  \\\n",
              "119385                         30                        2   \n",
              "119386                         31                        2   \n",
              "119387                         31                        2   \n",
              "119388                         31                        2   \n",
              "119389                         29                        2   \n",
              "\n",
              "        stays_in_week_nights  adults  ...  deposit_type  agent company  \\\n",
              "119385                     5       2  ...    No Deposit  394.0     NaN   \n",
              "119386                     5       3  ...    No Deposit    9.0     NaN   \n",
              "119387                     5       2  ...    No Deposit    9.0     NaN   \n",
              "119388                     5       2  ...    No Deposit   89.0     NaN   \n",
              "119389                     7       2  ...    No Deposit    9.0     NaN   \n",
              "\n",
              "       days_in_waiting_list customer_type     adr  \\\n",
              "119385                    0     Transient   96.14   \n",
              "119386                    0     Transient  225.43   \n",
              "119387                    0     Transient  157.71   \n",
              "119388                    0     Transient  104.40   \n",
              "119389                    0     Transient  151.20   \n",
              "\n",
              "        required_car_parking_spaces  total_of_special_requests  \\\n",
              "119385                            0                          0   \n",
              "119386                            0                          2   \n",
              "119387                            0                          4   \n",
              "119388                            0                          0   \n",
              "119389                            0                          2   \n",
              "\n",
              "        reservation_status reservation_status_date  \n",
              "119385           Check-Out              2017-09-06  \n",
              "119386           Check-Out              2017-09-07  \n",
              "119387           Check-Out              2017-09-07  \n",
              "119388           Check-Out              2017-09-07  \n",
              "119389           Check-Out              2017-09-07  \n",
              "\n",
              "[5 rows x 32 columns]"
            ],
            "text/html": [
              "\n",
              "  <div id=\"df-c787a4f2-db9b-493b-965f-ef50e054d3b3\">\n",
              "    <div class=\"colab-df-container\">\n",
              "      <div>\n",
              "<style scoped>\n",
              "    .dataframe tbody tr th:only-of-type {\n",
              "        vertical-align: middle;\n",
              "    }\n",
              "\n",
              "    .dataframe tbody tr th {\n",
              "        vertical-align: top;\n",
              "    }\n",
              "\n",
              "    .dataframe thead th {\n",
              "        text-align: right;\n",
              "    }\n",
              "</style>\n",
              "<table border=\"1\" class=\"dataframe\">\n",
              "  <thead>\n",
              "    <tr style=\"text-align: right;\">\n",
              "      <th></th>\n",
              "      <th>hotel</th>\n",
              "      <th>is_canceled</th>\n",
              "      <th>lead_time</th>\n",
              "      <th>arrival_date_year</th>\n",
              "      <th>arrival_date_month</th>\n",
              "      <th>arrival_date_week_number</th>\n",
              "      <th>arrival_date_day_of_month</th>\n",
              "      <th>stays_in_weekend_nights</th>\n",
              "      <th>stays_in_week_nights</th>\n",
              "      <th>adults</th>\n",
              "      <th>...</th>\n",
              "      <th>deposit_type</th>\n",
              "      <th>agent</th>\n",
              "      <th>company</th>\n",
              "      <th>days_in_waiting_list</th>\n",
              "      <th>customer_type</th>\n",
              "      <th>adr</th>\n",
              "      <th>required_car_parking_spaces</th>\n",
              "      <th>total_of_special_requests</th>\n",
              "      <th>reservation_status</th>\n",
              "      <th>reservation_status_date</th>\n",
              "    </tr>\n",
              "  </thead>\n",
              "  <tbody>\n",
              "    <tr>\n",
              "      <th>119385</th>\n",
              "      <td>City Hotel</td>\n",
              "      <td>0</td>\n",
              "      <td>23</td>\n",
              "      <td>2017</td>\n",
              "      <td>August</td>\n",
              "      <td>35</td>\n",
              "      <td>30</td>\n",
              "      <td>2</td>\n",
              "      <td>5</td>\n",
              "      <td>2</td>\n",
              "      <td>...</td>\n",
              "      <td>No Deposit</td>\n",
              "      <td>394.0</td>\n",
              "      <td>NaN</td>\n",
              "      <td>0</td>\n",
              "      <td>Transient</td>\n",
              "      <td>96.14</td>\n",
              "      <td>0</td>\n",
              "      <td>0</td>\n",
              "      <td>Check-Out</td>\n",
              "      <td>2017-09-06</td>\n",
              "    </tr>\n",
              "    <tr>\n",
              "      <th>119386</th>\n",
              "      <td>City Hotel</td>\n",
              "      <td>0</td>\n",
              "      <td>102</td>\n",
              "      <td>2017</td>\n",
              "      <td>August</td>\n",
              "      <td>35</td>\n",
              "      <td>31</td>\n",
              "      <td>2</td>\n",
              "      <td>5</td>\n",
              "      <td>3</td>\n",
              "      <td>...</td>\n",
              "      <td>No Deposit</td>\n",
              "      <td>9.0</td>\n",
              "      <td>NaN</td>\n",
              "      <td>0</td>\n",
              "      <td>Transient</td>\n",
              "      <td>225.43</td>\n",
              "      <td>0</td>\n",
              "      <td>2</td>\n",
              "      <td>Check-Out</td>\n",
              "      <td>2017-09-07</td>\n",
              "    </tr>\n",
              "    <tr>\n",
              "      <th>119387</th>\n",
              "      <td>City Hotel</td>\n",
              "      <td>0</td>\n",
              "      <td>34</td>\n",
              "      <td>2017</td>\n",
              "      <td>August</td>\n",
              "      <td>35</td>\n",
              "      <td>31</td>\n",
              "      <td>2</td>\n",
              "      <td>5</td>\n",
              "      <td>2</td>\n",
              "      <td>...</td>\n",
              "      <td>No Deposit</td>\n",
              "      <td>9.0</td>\n",
              "      <td>NaN</td>\n",
              "      <td>0</td>\n",
              "      <td>Transient</td>\n",
              "      <td>157.71</td>\n",
              "      <td>0</td>\n",
              "      <td>4</td>\n",
              "      <td>Check-Out</td>\n",
              "      <td>2017-09-07</td>\n",
              "    </tr>\n",
              "    <tr>\n",
              "      <th>119388</th>\n",
              "      <td>City Hotel</td>\n",
              "      <td>0</td>\n",
              "      <td>109</td>\n",
              "      <td>2017</td>\n",
              "      <td>August</td>\n",
              "      <td>35</td>\n",
              "      <td>31</td>\n",
              "      <td>2</td>\n",
              "      <td>5</td>\n",
              "      <td>2</td>\n",
              "      <td>...</td>\n",
              "      <td>No Deposit</td>\n",
              "      <td>89.0</td>\n",
              "      <td>NaN</td>\n",
              "      <td>0</td>\n",
              "      <td>Transient</td>\n",
              "      <td>104.40</td>\n",
              "      <td>0</td>\n",
              "      <td>0</td>\n",
              "      <td>Check-Out</td>\n",
              "      <td>2017-09-07</td>\n",
              "    </tr>\n",
              "    <tr>\n",
              "      <th>119389</th>\n",
              "      <td>City Hotel</td>\n",
              "      <td>0</td>\n",
              "      <td>205</td>\n",
              "      <td>2017</td>\n",
              "      <td>August</td>\n",
              "      <td>35</td>\n",
              "      <td>29</td>\n",
              "      <td>2</td>\n",
              "      <td>7</td>\n",
              "      <td>2</td>\n",
              "      <td>...</td>\n",
              "      <td>No Deposit</td>\n",
              "      <td>9.0</td>\n",
              "      <td>NaN</td>\n",
              "      <td>0</td>\n",
              "      <td>Transient</td>\n",
              "      <td>151.20</td>\n",
              "      <td>0</td>\n",
              "      <td>2</td>\n",
              "      <td>Check-Out</td>\n",
              "      <td>2017-09-07</td>\n",
              "    </tr>\n",
              "  </tbody>\n",
              "</table>\n",
              "<p>5 rows × 32 columns</p>\n",
              "</div>\n",
              "      <button class=\"colab-df-convert\" onclick=\"convertToInteractive('df-c787a4f2-db9b-493b-965f-ef50e054d3b3')\"\n",
              "              title=\"Convert this dataframe to an interactive table.\"\n",
              "              style=\"display:none;\">\n",
              "        \n",
              "  <svg xmlns=\"http://www.w3.org/2000/svg\" height=\"24px\"viewBox=\"0 0 24 24\"\n",
              "       width=\"24px\">\n",
              "    <path d=\"M0 0h24v24H0V0z\" fill=\"none\"/>\n",
              "    <path d=\"M18.56 5.44l.94 2.06.94-2.06 2.06-.94-2.06-.94-.94-2.06-.94 2.06-2.06.94zm-11 1L8.5 8.5l.94-2.06 2.06-.94-2.06-.94L8.5 2.5l-.94 2.06-2.06.94zm10 10l.94 2.06.94-2.06 2.06-.94-2.06-.94-.94-2.06-.94 2.06-2.06.94z\"/><path d=\"M17.41 7.96l-1.37-1.37c-.4-.4-.92-.59-1.43-.59-.52 0-1.04.2-1.43.59L10.3 9.45l-7.72 7.72c-.78.78-.78 2.05 0 2.83L4 21.41c.39.39.9.59 1.41.59.51 0 1.02-.2 1.41-.59l7.78-7.78 2.81-2.81c.8-.78.8-2.07 0-2.86zM5.41 20L4 18.59l7.72-7.72 1.47 1.35L5.41 20z\"/>\n",
              "  </svg>\n",
              "      </button>\n",
              "      \n",
              "  <style>\n",
              "    .colab-df-container {\n",
              "      display:flex;\n",
              "      flex-wrap:wrap;\n",
              "      gap: 12px;\n",
              "    }\n",
              "\n",
              "    .colab-df-convert {\n",
              "      background-color: #E8F0FE;\n",
              "      border: none;\n",
              "      border-radius: 50%;\n",
              "      cursor: pointer;\n",
              "      display: none;\n",
              "      fill: #1967D2;\n",
              "      height: 32px;\n",
              "      padding: 0 0 0 0;\n",
              "      width: 32px;\n",
              "    }\n",
              "\n",
              "    .colab-df-convert:hover {\n",
              "      background-color: #E2EBFA;\n",
              "      box-shadow: 0px 1px 2px rgba(60, 64, 67, 0.3), 0px 1px 3px 1px rgba(60, 64, 67, 0.15);\n",
              "      fill: #174EA6;\n",
              "    }\n",
              "\n",
              "    [theme=dark] .colab-df-convert {\n",
              "      background-color: #3B4455;\n",
              "      fill: #D2E3FC;\n",
              "    }\n",
              "\n",
              "    [theme=dark] .colab-df-convert:hover {\n",
              "      background-color: #434B5C;\n",
              "      box-shadow: 0px 1px 3px 1px rgba(0, 0, 0, 0.15);\n",
              "      filter: drop-shadow(0px 1px 2px rgba(0, 0, 0, 0.3));\n",
              "      fill: #FFFFFF;\n",
              "    }\n",
              "  </style>\n",
              "\n",
              "      <script>\n",
              "        const buttonEl =\n",
              "          document.querySelector('#df-c787a4f2-db9b-493b-965f-ef50e054d3b3 button.colab-df-convert');\n",
              "        buttonEl.style.display =\n",
              "          google.colab.kernel.accessAllowed ? 'block' : 'none';\n",
              "\n",
              "        async function convertToInteractive(key) {\n",
              "          const element = document.querySelector('#df-c787a4f2-db9b-493b-965f-ef50e054d3b3');\n",
              "          const dataTable =\n",
              "            await google.colab.kernel.invokeFunction('convertToInteractive',\n",
              "                                                     [key], {});\n",
              "          if (!dataTable) return;\n",
              "\n",
              "          const docLinkHtml = 'Like what you see? Visit the ' +\n",
              "            '<a target=\"_blank\" href=https://colab.research.google.com/notebooks/data_table.ipynb>data table notebook</a>'\n",
              "            + ' to learn more about interactive tables.';\n",
              "          element.innerHTML = '';\n",
              "          dataTable['output_type'] = 'display_data';\n",
              "          await google.colab.output.renderOutput(dataTable, element);\n",
              "          const docLink = document.createElement('div');\n",
              "          docLink.innerHTML = docLinkHtml;\n",
              "          element.appendChild(docLink);\n",
              "        }\n",
              "      </script>\n",
              "    </div>\n",
              "  </div>\n",
              "  "
            ]
          },
          "metadata": {},
          "execution_count": 4
        }
      ],
      "source": [
        "df.tail()"
      ]
    },
    {
      "cell_type": "code",
      "execution_count": null,
      "metadata": {
        "colab": {
          "base_uri": "https://localhost:8080/"
        },
        "id": "bq7zerqL4rWc",
        "outputId": "6041103d-ac14-4afb-9767-6fe2bbceb95f"
      },
      "outputs": [
        {
          "output_type": "execute_result",
          "data": {
            "text/plain": [
              "(119390, 32)"
            ]
          },
          "metadata": {},
          "execution_count": 5
        }
      ],
      "source": [
        "df.shape"
      ]
    },
    {
      "cell_type": "code",
      "execution_count": null,
      "metadata": {
        "colab": {
          "base_uri": "https://localhost:8080/"
        },
        "id": "fgEIR9-T27vN",
        "outputId": "b53494f7-4ee3-4104-8b5f-eba73a2f01ee"
      },
      "outputs": [
        {
          "output_type": "stream",
          "name": "stdout",
          "text": [
            "<class 'pandas.core.frame.DataFrame'>\n",
            "RangeIndex: 119390 entries, 0 to 119389\n",
            "Data columns (total 32 columns):\n",
            " #   Column                          Non-Null Count   Dtype  \n",
            "---  ------                          --------------   -----  \n",
            " 0   hotel                           119390 non-null  object \n",
            " 1   is_canceled                     119390 non-null  int64  \n",
            " 2   lead_time                       119390 non-null  int64  \n",
            " 3   arrival_date_year               119390 non-null  int64  \n",
            " 4   arrival_date_month              119390 non-null  object \n",
            " 5   arrival_date_week_number        119390 non-null  int64  \n",
            " 6   arrival_date_day_of_month       119390 non-null  int64  \n",
            " 7   stays_in_weekend_nights         119390 non-null  int64  \n",
            " 8   stays_in_week_nights            119390 non-null  int64  \n",
            " 9   adults                          119390 non-null  int64  \n",
            " 10  children                        119386 non-null  float64\n",
            " 11  babies                          119390 non-null  int64  \n",
            " 12  meal                            119390 non-null  object \n",
            " 13  country                         118902 non-null  object \n",
            " 14  market_segment                  119390 non-null  object \n",
            " 15  distribution_channel            119390 non-null  object \n",
            " 16  is_repeated_guest               119390 non-null  int64  \n",
            " 17  previous_cancellations          119390 non-null  int64  \n",
            " 18  previous_bookings_not_canceled  119390 non-null  int64  \n",
            " 19  reserved_room_type              119390 non-null  object \n",
            " 20  assigned_room_type              119390 non-null  object \n",
            " 21  booking_changes                 119390 non-null  int64  \n",
            " 22  deposit_type                    119390 non-null  object \n",
            " 23  agent                           103050 non-null  float64\n",
            " 24  company                         6797 non-null    float64\n",
            " 25  days_in_waiting_list            119390 non-null  int64  \n",
            " 26  customer_type                   119390 non-null  object \n",
            " 27  adr                             119390 non-null  float64\n",
            " 28  required_car_parking_spaces     119390 non-null  int64  \n",
            " 29  total_of_special_requests       119390 non-null  int64  \n",
            " 30  reservation_status              119390 non-null  object \n",
            " 31  reservation_status_date         119390 non-null  object \n",
            "dtypes: float64(4), int64(16), object(12)\n",
            "memory usage: 29.1+ MB\n"
          ]
        }
      ],
      "source": [
        "df.info()"
      ]
    },
    {
      "cell_type": "markdown",
      "metadata": {
        "id": "k8xeOEYx44Vq"
      },
      "source": [
        "1. Hotel dataset have 119390 booking data with 32 features.\n",
        "2. All 119390 have non-null value that means there are no missing values there.\n",
        "3. There are 12 feature which have object type value(enum type value) and remaining 20 features have numeric value.\n"
      ]
    },
    {
      "cell_type": "markdown",
      "metadata": {
        "id": "TA56DX4h62FM"
      },
      "source": [
        "###Understanding Variables"
      ]
    },
    {
      "cell_type": "code",
      "execution_count": null,
      "metadata": {
        "colab": {
          "base_uri": "https://localhost:8080/"
        },
        "id": "nMQCWUe67Hmn",
        "outputId": "ced42b33-0a4c-46ec-c04e-46974c62be2b"
      },
      "outputs": [
        {
          "output_type": "execute_result",
          "data": {
            "text/plain": [
              "Index(['hotel', 'is_canceled', 'lead_time', 'arrival_date_year',\n",
              "       'arrival_date_month', 'arrival_date_week_number',\n",
              "       'arrival_date_day_of_month', 'stays_in_weekend_nights',\n",
              "       'stays_in_week_nights', 'adults', 'children', 'babies', 'meal',\n",
              "       'country', 'market_segment', 'distribution_channel',\n",
              "       'is_repeated_guest', 'previous_cancellations',\n",
              "       'previous_bookings_not_canceled', 'reserved_room_type',\n",
              "       'assigned_room_type', 'booking_changes', 'deposit_type', 'agent',\n",
              "       'company', 'days_in_waiting_list', 'customer_type', 'adr',\n",
              "       'required_car_parking_spaces', 'total_of_special_requests',\n",
              "       'reservation_status', 'reservation_status_date'],\n",
              "      dtype='object')"
            ]
          },
          "metadata": {},
          "execution_count": 7
        }
      ],
      "source": [
        "df.columns"
      ]
    },
    {
      "cell_type": "code",
      "execution_count": null,
      "metadata": {
        "colab": {
          "base_uri": "https://localhost:8080/",
          "height": 364
        },
        "id": "hcLX3uok-Bo5",
        "outputId": "b277c26d-2df3-4c3c-b4a2-1ea569d53a70"
      },
      "outputs": [
        {
          "output_type": "execute_result",
          "data": {
            "text/plain": [
              "         is_canceled      lead_time  arrival_date_year  \\\n",
              "count  119390.000000  119390.000000      119390.000000   \n",
              "mean        0.370416     104.011416        2016.156554   \n",
              "std         0.482918     106.863097           0.707476   \n",
              "min         0.000000       0.000000        2015.000000   \n",
              "25%         0.000000      18.000000        2016.000000   \n",
              "50%         0.000000      69.000000        2016.000000   \n",
              "75%         1.000000     160.000000        2017.000000   \n",
              "max         1.000000     737.000000        2017.000000   \n",
              "\n",
              "       arrival_date_week_number  arrival_date_day_of_month  \\\n",
              "count             119390.000000              119390.000000   \n",
              "mean                  27.165173                  15.798241   \n",
              "std                   13.605138                   8.780829   \n",
              "min                    1.000000                   1.000000   \n",
              "25%                   16.000000                   8.000000   \n",
              "50%                   28.000000                  16.000000   \n",
              "75%                   38.000000                  23.000000   \n",
              "max                   53.000000                  31.000000   \n",
              "\n",
              "       stays_in_weekend_nights  stays_in_week_nights         adults  \\\n",
              "count            119390.000000         119390.000000  119390.000000   \n",
              "mean                  0.927599              2.500302       1.856403   \n",
              "std                   0.998613              1.908286       0.579261   \n",
              "min                   0.000000              0.000000       0.000000   \n",
              "25%                   0.000000              1.000000       2.000000   \n",
              "50%                   1.000000              2.000000       2.000000   \n",
              "75%                   2.000000              3.000000       2.000000   \n",
              "max                  19.000000             50.000000      55.000000   \n",
              "\n",
              "            children         babies  is_repeated_guest  \\\n",
              "count  119386.000000  119390.000000      119390.000000   \n",
              "mean        0.103890       0.007949           0.031912   \n",
              "std         0.398561       0.097436           0.175767   \n",
              "min         0.000000       0.000000           0.000000   \n",
              "25%         0.000000       0.000000           0.000000   \n",
              "50%         0.000000       0.000000           0.000000   \n",
              "75%         0.000000       0.000000           0.000000   \n",
              "max        10.000000      10.000000           1.000000   \n",
              "\n",
              "       previous_cancellations  previous_bookings_not_canceled  \\\n",
              "count           119390.000000                   119390.000000   \n",
              "mean                 0.087118                        0.137097   \n",
              "std                  0.844336                        1.497437   \n",
              "min                  0.000000                        0.000000   \n",
              "25%                  0.000000                        0.000000   \n",
              "50%                  0.000000                        0.000000   \n",
              "75%                  0.000000                        0.000000   \n",
              "max                 26.000000                       72.000000   \n",
              "\n",
              "       booking_changes          agent      company  days_in_waiting_list  \\\n",
              "count    119390.000000  103050.000000  6797.000000         119390.000000   \n",
              "mean          0.221124      86.693382   189.266735              2.321149   \n",
              "std           0.652306     110.774548   131.655015             17.594721   \n",
              "min           0.000000       1.000000     6.000000              0.000000   \n",
              "25%           0.000000       9.000000    62.000000              0.000000   \n",
              "50%           0.000000      14.000000   179.000000              0.000000   \n",
              "75%           0.000000     229.000000   270.000000              0.000000   \n",
              "max          21.000000     535.000000   543.000000            391.000000   \n",
              "\n",
              "                 adr  required_car_parking_spaces  total_of_special_requests  \n",
              "count  119390.000000                119390.000000              119390.000000  \n",
              "mean      101.831122                     0.062518                   0.571363  \n",
              "std        50.535790                     0.245291                   0.792798  \n",
              "min        -6.380000                     0.000000                   0.000000  \n",
              "25%        69.290000                     0.000000                   0.000000  \n",
              "50%        94.575000                     0.000000                   0.000000  \n",
              "75%       126.000000                     0.000000                   1.000000  \n",
              "max      5400.000000                     8.000000                   5.000000  "
            ],
            "text/html": [
              "\n",
              "  <div id=\"df-aa668507-e270-4b02-beb0-2ace04c71d6d\">\n",
              "    <div class=\"colab-df-container\">\n",
              "      <div>\n",
              "<style scoped>\n",
              "    .dataframe tbody tr th:only-of-type {\n",
              "        vertical-align: middle;\n",
              "    }\n",
              "\n",
              "    .dataframe tbody tr th {\n",
              "        vertical-align: top;\n",
              "    }\n",
              "\n",
              "    .dataframe thead th {\n",
              "        text-align: right;\n",
              "    }\n",
              "</style>\n",
              "<table border=\"1\" class=\"dataframe\">\n",
              "  <thead>\n",
              "    <tr style=\"text-align: right;\">\n",
              "      <th></th>\n",
              "      <th>is_canceled</th>\n",
              "      <th>lead_time</th>\n",
              "      <th>arrival_date_year</th>\n",
              "      <th>arrival_date_week_number</th>\n",
              "      <th>arrival_date_day_of_month</th>\n",
              "      <th>stays_in_weekend_nights</th>\n",
              "      <th>stays_in_week_nights</th>\n",
              "      <th>adults</th>\n",
              "      <th>children</th>\n",
              "      <th>babies</th>\n",
              "      <th>is_repeated_guest</th>\n",
              "      <th>previous_cancellations</th>\n",
              "      <th>previous_bookings_not_canceled</th>\n",
              "      <th>booking_changes</th>\n",
              "      <th>agent</th>\n",
              "      <th>company</th>\n",
              "      <th>days_in_waiting_list</th>\n",
              "      <th>adr</th>\n",
              "      <th>required_car_parking_spaces</th>\n",
              "      <th>total_of_special_requests</th>\n",
              "    </tr>\n",
              "  </thead>\n",
              "  <tbody>\n",
              "    <tr>\n",
              "      <th>count</th>\n",
              "      <td>119390.000000</td>\n",
              "      <td>119390.000000</td>\n",
              "      <td>119390.000000</td>\n",
              "      <td>119390.000000</td>\n",
              "      <td>119390.000000</td>\n",
              "      <td>119390.000000</td>\n",
              "      <td>119390.000000</td>\n",
              "      <td>119390.000000</td>\n",
              "      <td>119386.000000</td>\n",
              "      <td>119390.000000</td>\n",
              "      <td>119390.000000</td>\n",
              "      <td>119390.000000</td>\n",
              "      <td>119390.000000</td>\n",
              "      <td>119390.000000</td>\n",
              "      <td>103050.000000</td>\n",
              "      <td>6797.000000</td>\n",
              "      <td>119390.000000</td>\n",
              "      <td>119390.000000</td>\n",
              "      <td>119390.000000</td>\n",
              "      <td>119390.000000</td>\n",
              "    </tr>\n",
              "    <tr>\n",
              "      <th>mean</th>\n",
              "      <td>0.370416</td>\n",
              "      <td>104.011416</td>\n",
              "      <td>2016.156554</td>\n",
              "      <td>27.165173</td>\n",
              "      <td>15.798241</td>\n",
              "      <td>0.927599</td>\n",
              "      <td>2.500302</td>\n",
              "      <td>1.856403</td>\n",
              "      <td>0.103890</td>\n",
              "      <td>0.007949</td>\n",
              "      <td>0.031912</td>\n",
              "      <td>0.087118</td>\n",
              "      <td>0.137097</td>\n",
              "      <td>0.221124</td>\n",
              "      <td>86.693382</td>\n",
              "      <td>189.266735</td>\n",
              "      <td>2.321149</td>\n",
              "      <td>101.831122</td>\n",
              "      <td>0.062518</td>\n",
              "      <td>0.571363</td>\n",
              "    </tr>\n",
              "    <tr>\n",
              "      <th>std</th>\n",
              "      <td>0.482918</td>\n",
              "      <td>106.863097</td>\n",
              "      <td>0.707476</td>\n",
              "      <td>13.605138</td>\n",
              "      <td>8.780829</td>\n",
              "      <td>0.998613</td>\n",
              "      <td>1.908286</td>\n",
              "      <td>0.579261</td>\n",
              "      <td>0.398561</td>\n",
              "      <td>0.097436</td>\n",
              "      <td>0.175767</td>\n",
              "      <td>0.844336</td>\n",
              "      <td>1.497437</td>\n",
              "      <td>0.652306</td>\n",
              "      <td>110.774548</td>\n",
              "      <td>131.655015</td>\n",
              "      <td>17.594721</td>\n",
              "      <td>50.535790</td>\n",
              "      <td>0.245291</td>\n",
              "      <td>0.792798</td>\n",
              "    </tr>\n",
              "    <tr>\n",
              "      <th>min</th>\n",
              "      <td>0.000000</td>\n",
              "      <td>0.000000</td>\n",
              "      <td>2015.000000</td>\n",
              "      <td>1.000000</td>\n",
              "      <td>1.000000</td>\n",
              "      <td>0.000000</td>\n",
              "      <td>0.000000</td>\n",
              "      <td>0.000000</td>\n",
              "      <td>0.000000</td>\n",
              "      <td>0.000000</td>\n",
              "      <td>0.000000</td>\n",
              "      <td>0.000000</td>\n",
              "      <td>0.000000</td>\n",
              "      <td>0.000000</td>\n",
              "      <td>1.000000</td>\n",
              "      <td>6.000000</td>\n",
              "      <td>0.000000</td>\n",
              "      <td>-6.380000</td>\n",
              "      <td>0.000000</td>\n",
              "      <td>0.000000</td>\n",
              "    </tr>\n",
              "    <tr>\n",
              "      <th>25%</th>\n",
              "      <td>0.000000</td>\n",
              "      <td>18.000000</td>\n",
              "      <td>2016.000000</td>\n",
              "      <td>16.000000</td>\n",
              "      <td>8.000000</td>\n",
              "      <td>0.000000</td>\n",
              "      <td>1.000000</td>\n",
              "      <td>2.000000</td>\n",
              "      <td>0.000000</td>\n",
              "      <td>0.000000</td>\n",
              "      <td>0.000000</td>\n",
              "      <td>0.000000</td>\n",
              "      <td>0.000000</td>\n",
              "      <td>0.000000</td>\n",
              "      <td>9.000000</td>\n",
              "      <td>62.000000</td>\n",
              "      <td>0.000000</td>\n",
              "      <td>69.290000</td>\n",
              "      <td>0.000000</td>\n",
              "      <td>0.000000</td>\n",
              "    </tr>\n",
              "    <tr>\n",
              "      <th>50%</th>\n",
              "      <td>0.000000</td>\n",
              "      <td>69.000000</td>\n",
              "      <td>2016.000000</td>\n",
              "      <td>28.000000</td>\n",
              "      <td>16.000000</td>\n",
              "      <td>1.000000</td>\n",
              "      <td>2.000000</td>\n",
              "      <td>2.000000</td>\n",
              "      <td>0.000000</td>\n",
              "      <td>0.000000</td>\n",
              "      <td>0.000000</td>\n",
              "      <td>0.000000</td>\n",
              "      <td>0.000000</td>\n",
              "      <td>0.000000</td>\n",
              "      <td>14.000000</td>\n",
              "      <td>179.000000</td>\n",
              "      <td>0.000000</td>\n",
              "      <td>94.575000</td>\n",
              "      <td>0.000000</td>\n",
              "      <td>0.000000</td>\n",
              "    </tr>\n",
              "    <tr>\n",
              "      <th>75%</th>\n",
              "      <td>1.000000</td>\n",
              "      <td>160.000000</td>\n",
              "      <td>2017.000000</td>\n",
              "      <td>38.000000</td>\n",
              "      <td>23.000000</td>\n",
              "      <td>2.000000</td>\n",
              "      <td>3.000000</td>\n",
              "      <td>2.000000</td>\n",
              "      <td>0.000000</td>\n",
              "      <td>0.000000</td>\n",
              "      <td>0.000000</td>\n",
              "      <td>0.000000</td>\n",
              "      <td>0.000000</td>\n",
              "      <td>0.000000</td>\n",
              "      <td>229.000000</td>\n",
              "      <td>270.000000</td>\n",
              "      <td>0.000000</td>\n",
              "      <td>126.000000</td>\n",
              "      <td>0.000000</td>\n",
              "      <td>1.000000</td>\n",
              "    </tr>\n",
              "    <tr>\n",
              "      <th>max</th>\n",
              "      <td>1.000000</td>\n",
              "      <td>737.000000</td>\n",
              "      <td>2017.000000</td>\n",
              "      <td>53.000000</td>\n",
              "      <td>31.000000</td>\n",
              "      <td>19.000000</td>\n",
              "      <td>50.000000</td>\n",
              "      <td>55.000000</td>\n",
              "      <td>10.000000</td>\n",
              "      <td>10.000000</td>\n",
              "      <td>1.000000</td>\n",
              "      <td>26.000000</td>\n",
              "      <td>72.000000</td>\n",
              "      <td>21.000000</td>\n",
              "      <td>535.000000</td>\n",
              "      <td>543.000000</td>\n",
              "      <td>391.000000</td>\n",
              "      <td>5400.000000</td>\n",
              "      <td>8.000000</td>\n",
              "      <td>5.000000</td>\n",
              "    </tr>\n",
              "  </tbody>\n",
              "</table>\n",
              "</div>\n",
              "      <button class=\"colab-df-convert\" onclick=\"convertToInteractive('df-aa668507-e270-4b02-beb0-2ace04c71d6d')\"\n",
              "              title=\"Convert this dataframe to an interactive table.\"\n",
              "              style=\"display:none;\">\n",
              "        \n",
              "  <svg xmlns=\"http://www.w3.org/2000/svg\" height=\"24px\"viewBox=\"0 0 24 24\"\n",
              "       width=\"24px\">\n",
              "    <path d=\"M0 0h24v24H0V0z\" fill=\"none\"/>\n",
              "    <path d=\"M18.56 5.44l.94 2.06.94-2.06 2.06-.94-2.06-.94-.94-2.06-.94 2.06-2.06.94zm-11 1L8.5 8.5l.94-2.06 2.06-.94-2.06-.94L8.5 2.5l-.94 2.06-2.06.94zm10 10l.94 2.06.94-2.06 2.06-.94-2.06-.94-.94-2.06-.94 2.06-2.06.94z\"/><path d=\"M17.41 7.96l-1.37-1.37c-.4-.4-.92-.59-1.43-.59-.52 0-1.04.2-1.43.59L10.3 9.45l-7.72 7.72c-.78.78-.78 2.05 0 2.83L4 21.41c.39.39.9.59 1.41.59.51 0 1.02-.2 1.41-.59l7.78-7.78 2.81-2.81c.8-.78.8-2.07 0-2.86zM5.41 20L4 18.59l7.72-7.72 1.47 1.35L5.41 20z\"/>\n",
              "  </svg>\n",
              "      </button>\n",
              "      \n",
              "  <style>\n",
              "    .colab-df-container {\n",
              "      display:flex;\n",
              "      flex-wrap:wrap;\n",
              "      gap: 12px;\n",
              "    }\n",
              "\n",
              "    .colab-df-convert {\n",
              "      background-color: #E8F0FE;\n",
              "      border: none;\n",
              "      border-radius: 50%;\n",
              "      cursor: pointer;\n",
              "      display: none;\n",
              "      fill: #1967D2;\n",
              "      height: 32px;\n",
              "      padding: 0 0 0 0;\n",
              "      width: 32px;\n",
              "    }\n",
              "\n",
              "    .colab-df-convert:hover {\n",
              "      background-color: #E2EBFA;\n",
              "      box-shadow: 0px 1px 2px rgba(60, 64, 67, 0.3), 0px 1px 3px 1px rgba(60, 64, 67, 0.15);\n",
              "      fill: #174EA6;\n",
              "    }\n",
              "\n",
              "    [theme=dark] .colab-df-convert {\n",
              "      background-color: #3B4455;\n",
              "      fill: #D2E3FC;\n",
              "    }\n",
              "\n",
              "    [theme=dark] .colab-df-convert:hover {\n",
              "      background-color: #434B5C;\n",
              "      box-shadow: 0px 1px 3px 1px rgba(0, 0, 0, 0.15);\n",
              "      filter: drop-shadow(0px 1px 2px rgba(0, 0, 0, 0.3));\n",
              "      fill: #FFFFFF;\n",
              "    }\n",
              "  </style>\n",
              "\n",
              "      <script>\n",
              "        const buttonEl =\n",
              "          document.querySelector('#df-aa668507-e270-4b02-beb0-2ace04c71d6d button.colab-df-convert');\n",
              "        buttonEl.style.display =\n",
              "          google.colab.kernel.accessAllowed ? 'block' : 'none';\n",
              "\n",
              "        async function convertToInteractive(key) {\n",
              "          const element = document.querySelector('#df-aa668507-e270-4b02-beb0-2ace04c71d6d');\n",
              "          const dataTable =\n",
              "            await google.colab.kernel.invokeFunction('convertToInteractive',\n",
              "                                                     [key], {});\n",
              "          if (!dataTable) return;\n",
              "\n",
              "          const docLinkHtml = 'Like what you see? Visit the ' +\n",
              "            '<a target=\"_blank\" href=https://colab.research.google.com/notebooks/data_table.ipynb>data table notebook</a>'\n",
              "            + ' to learn more about interactive tables.';\n",
              "          element.innerHTML = '';\n",
              "          dataTable['output_type'] = 'display_data';\n",
              "          await google.colab.output.renderOutput(dataTable, element);\n",
              "          const docLink = document.createElement('div');\n",
              "          docLink.innerHTML = docLinkHtml;\n",
              "          element.appendChild(docLink);\n",
              "        }\n",
              "      </script>\n",
              "    </div>\n",
              "  </div>\n",
              "  "
            ]
          },
          "metadata": {},
          "execution_count": 8
        }
      ],
      "source": [
        "df.describe()"
      ]
    },
    {
      "cell_type": "code",
      "execution_count": null,
      "metadata": {
        "colab": {
          "base_uri": "https://localhost:8080/"
        },
        "id": "-pKjm3hV_qNb",
        "outputId": "33a73464-3443-4260-d62c-0be4f069d0a5"
      },
      "outputs": [
        {
          "output_type": "execute_result",
          "data": {
            "text/plain": [
              "array(['Resort Hotel', 'City Hotel'], dtype=object)"
            ]
          },
          "metadata": {},
          "execution_count": 9
        }
      ],
      "source": [
        "df.hotel.unique()"
      ]
    },
    {
      "cell_type": "markdown",
      "metadata": {
        "id": "xMkbFjbJBR9N"
      },
      "source": [
        "There are two type of hotels which are Resort Hotel and City Hotel"
      ]
    },
    {
      "cell_type": "code",
      "execution_count": null,
      "metadata": {
        "colab": {
          "base_uri": "https://localhost:8080/"
        },
        "id": "nWvlt8e-_6q2",
        "outputId": "2fed40d1-c0c1-4a06-af0c-9f56e79f2e11"
      },
      "outputs": [
        {
          "output_type": "execute_result",
          "data": {
            "text/plain": [
              "array(['July', 'August', 'September', 'October', 'November', 'December',\n",
              "       'January', 'February', 'March', 'April', 'May', 'June'],\n",
              "      dtype=object)"
            ]
          },
          "metadata": {},
          "execution_count": 10
        }
      ],
      "source": [
        "df.arrival_date_month.unique()"
      ]
    },
    {
      "cell_type": "markdown",
      "metadata": {
        "id": "Kj970LNACa9A"
      },
      "source": [
        "so there are total 12 unique months which are used for booking\n"
      ]
    },
    {
      "cell_type": "code",
      "execution_count": null,
      "metadata": {
        "colab": {
          "base_uri": "https://localhost:8080/"
        },
        "id": "Sh5mqjdACxs-",
        "outputId": "7ce60b5f-f368-4186-df2b-83df3e697507"
      },
      "outputs": [
        {
          "output_type": "execute_result",
          "data": {
            "text/plain": [
              "array(['BB', 'FB', 'HB', 'SC', 'Undefined'], dtype=object)"
            ]
          },
          "metadata": {},
          "execution_count": 11
        }
      ],
      "source": [
        "df.meal.unique()"
      ]
    },
    {
      "cell_type": "markdown",
      "metadata": {
        "id": "-jBeI4EnD2nB"
      },
      "source": [
        "There are four type of food options are avaialbe i.e BB,FB,SC and undefined"
      ]
    },
    {
      "cell_type": "code",
      "execution_count": null,
      "metadata": {
        "colab": {
          "base_uri": "https://localhost:8080/"
        },
        "id": "UFdfYLzECaYs",
        "outputId": "a6fc2e7d-44d8-40b1-b0f9-cdf8620eba65"
      },
      "outputs": [
        {
          "output_type": "execute_result",
          "data": {
            "text/plain": [
              "array(['PRT', 'GBR', 'USA', 'ESP', 'IRL', 'FRA', nan, 'ROU', 'NOR', 'OMN',\n",
              "       'ARG', 'POL', 'DEU', 'BEL', 'CHE', 'CN', 'GRC', 'ITA', 'NLD',\n",
              "       'DNK', 'RUS', 'SWE', 'AUS', 'EST', 'CZE', 'BRA', 'FIN', 'MOZ',\n",
              "       'BWA', 'LUX', 'SVN', 'ALB', 'IND', 'CHN', 'MEX', 'MAR', 'UKR',\n",
              "       'SMR', 'LVA', 'PRI', 'SRB', 'CHL', 'AUT', 'BLR', 'LTU', 'TUR',\n",
              "       'ZAF', 'AGO', 'ISR', 'CYM', 'ZMB', 'CPV', 'ZWE', 'DZA', 'KOR',\n",
              "       'CRI', 'HUN', 'ARE', 'TUN', 'JAM', 'HRV', 'HKG', 'IRN', 'GEO',\n",
              "       'AND', 'GIB', 'URY', 'JEY', 'CAF', 'CYP', 'COL', 'GGY', 'KWT',\n",
              "       'NGA', 'MDV', 'VEN', 'SVK', 'FJI', 'KAZ', 'PAK', 'IDN', 'LBN',\n",
              "       'PHL', 'SEN', 'SYC', 'AZE', 'BHR', 'NZL', 'THA', 'DOM', 'MKD',\n",
              "       'MYS', 'ARM', 'JPN', 'LKA', 'CUB', 'CMR', 'BIH', 'MUS', 'COM',\n",
              "       'SUR', 'UGA', 'BGR', 'CIV', 'JOR', 'SYR', 'SGP', 'BDI', 'SAU',\n",
              "       'VNM', 'PLW', 'QAT', 'EGY', 'PER', 'MLT', 'MWI', 'ECU', 'MDG',\n",
              "       'ISL', 'UZB', 'NPL', 'BHS', 'MAC', 'TGO', 'TWN', 'DJI', 'STP',\n",
              "       'KNA', 'ETH', 'IRQ', 'HND', 'RWA', 'KHM', 'MCO', 'BGD', 'IMN',\n",
              "       'TJK', 'NIC', 'BEN', 'VGB', 'TZA', 'GAB', 'GHA', 'TMP', 'GLP',\n",
              "       'KEN', 'LIE', 'GNB', 'MNE', 'UMI', 'MYT', 'FRO', 'MMR', 'PAN',\n",
              "       'BFA', 'LBY', 'MLI', 'NAM', 'BOL', 'PRY', 'BRB', 'ABW', 'AIA',\n",
              "       'SLV', 'DMA', 'PYF', 'GUY', 'LCA', 'ATA', 'GTM', 'ASM', 'MRT',\n",
              "       'NCL', 'KIR', 'SDN', 'ATF', 'SLE', 'LAO'], dtype=object)"
            ]
          },
          "metadata": {},
          "execution_count": 12
        }
      ],
      "source": [
        "df.country.unique()"
      ]
    },
    {
      "cell_type": "code",
      "execution_count": null,
      "metadata": {
        "colab": {
          "base_uri": "https://localhost:8080/"
        },
        "id": "GQNti2lVEItw",
        "outputId": "da033988-f114-42f8-9e7b-2ca573daa730"
      },
      "outputs": [
        {
          "output_type": "execute_result",
          "data": {
            "text/plain": [
              "177"
            ]
          },
          "metadata": {},
          "execution_count": 13
        }
      ],
      "source": [
        "df.country.nunique()"
      ]
    },
    {
      "cell_type": "markdown",
      "metadata": {
        "id": "0uZJmSoPEZRp"
      },
      "source": [
        "So we have 177 unique countries hotel booking data"
      ]
    },
    {
      "cell_type": "code",
      "execution_count": null,
      "metadata": {
        "colab": {
          "base_uri": "https://localhost:8080/"
        },
        "id": "B55B597YEmgy",
        "outputId": "efa57334-1b99-4c84-b4cb-d908ed421823"
      },
      "outputs": [
        {
          "output_type": "execute_result",
          "data": {
            "text/plain": [
              "array(['Direct', 'Corporate', 'Online TA', 'Offline TA/TO',\n",
              "       'Complementary', 'Groups', 'Undefined', 'Aviation'], dtype=object)"
            ]
          },
          "metadata": {},
          "execution_count": 14
        }
      ],
      "source": [
        "df.market_segment.unique()"
      ]
    },
    {
      "cell_type": "markdown",
      "metadata": {
        "id": "NNV6Sj1yG9aT"
      },
      "source": [
        "There are total 8 unique market segment which include one undefined market segment also"
      ]
    },
    {
      "cell_type": "code",
      "execution_count": null,
      "metadata": {
        "colab": {
          "base_uri": "https://localhost:8080/"
        },
        "id": "okW9vzLyHKC1",
        "outputId": "f4c71371-19b0-4be1-b4b9-7b7235a75fb2"
      },
      "outputs": [
        {
          "output_type": "execute_result",
          "data": {
            "text/plain": [
              "array(['Direct', 'Corporate', 'TA/TO', 'Undefined', 'GDS'], dtype=object)"
            ]
          },
          "metadata": {},
          "execution_count": 15
        }
      ],
      "source": [
        "df.distribution_channel.unique()"
      ]
    },
    {
      "cell_type": "markdown",
      "metadata": {
        "id": "OR9jbTSyHYMm"
      },
      "source": [
        "Ther are 5 distribution channel which include undefined also"
      ]
    },
    {
      "cell_type": "code",
      "execution_count": null,
      "metadata": {
        "colab": {
          "base_uri": "https://localhost:8080/"
        },
        "id": "aGEHahYpHm0j",
        "outputId": "ef0b2203-07f2-4b8c-a627-b3c6c62def7a"
      },
      "outputs": [
        {
          "output_type": "execute_result",
          "data": {
            "text/plain": [
              "array(['C', 'A', 'D', 'E', 'G', 'F', 'H', 'L', 'P', 'B'], dtype=object)"
            ]
          },
          "metadata": {},
          "execution_count": 16
        }
      ],
      "source": [
        "df.reserved_room_type.unique()"
      ]
    },
    {
      "cell_type": "code",
      "execution_count": null,
      "metadata": {
        "colab": {
          "base_uri": "https://localhost:8080/"
        },
        "id": "BwnMdGlwH33w",
        "outputId": "05119a0a-1808-45bf-f010-96f0ed38628a"
      },
      "outputs": [
        {
          "output_type": "execute_result",
          "data": {
            "text/plain": [
              "10"
            ]
          },
          "metadata": {},
          "execution_count": 17
        }
      ],
      "source": [
        "df.reserved_room_type.nunique()"
      ]
    },
    {
      "cell_type": "code",
      "execution_count": null,
      "metadata": {
        "colab": {
          "base_uri": "https://localhost:8080/"
        },
        "id": "bvwMDHVGHyut",
        "outputId": "d4b6ab31-0212-454a-c4a1-27f58d49e99c"
      },
      "outputs": [
        {
          "output_type": "execute_result",
          "data": {
            "text/plain": [
              "array(['C', 'A', 'D', 'E', 'G', 'F', 'I', 'B', 'H', 'P', 'L', 'K'],\n",
              "      dtype=object)"
            ]
          },
          "metadata": {},
          "execution_count": 18
        }
      ],
      "source": [
        "df.assigned_room_type.unique()"
      ]
    },
    {
      "cell_type": "code",
      "execution_count": null,
      "metadata": {
        "colab": {
          "base_uri": "https://localhost:8080/"
        },
        "id": "keeyKrlxH-fI",
        "outputId": "b80c2f8d-7408-46ae-eec6-d28b62a129dc"
      },
      "outputs": [
        {
          "output_type": "execute_result",
          "data": {
            "text/plain": [
              "12"
            ]
          },
          "metadata": {},
          "execution_count": 19
        }
      ],
      "source": [
        "df.assigned_room_type.nunique()"
      ]
    },
    {
      "cell_type": "markdown",
      "metadata": {
        "id": "6Bn0mRGwIIuq"
      },
      "source": [
        "So there are 10 reserved room type ut assigned room type are 12 we will further"
      ]
    },
    {
      "cell_type": "code",
      "execution_count": null,
      "metadata": {
        "colab": {
          "base_uri": "https://localhost:8080/"
        },
        "id": "2BFBotifIW-R",
        "outputId": "2f85c9d8-339c-41a6-9e09-fb8f98e00a7c"
      },
      "outputs": [
        {
          "output_type": "execute_result",
          "data": {
            "text/plain": [
              "array(['No Deposit', 'Refundable', 'Non Refund'], dtype=object)"
            ]
          },
          "metadata": {},
          "execution_count": 20
        }
      ],
      "source": [
        "df.deposit_type.unique()"
      ]
    },
    {
      "cell_type": "code",
      "execution_count": null,
      "metadata": {
        "colab": {
          "base_uri": "https://localhost:8080/"
        },
        "id": "WyyAa9MZIl23",
        "outputId": "6bf8b313-2b7b-4406-903b-d2c7e9055e6b"
      },
      "outputs": [
        {
          "output_type": "execute_result",
          "data": {
            "text/plain": [
              "array(['Transient', 'Contract', 'Transient-Party', 'Group'], dtype=object)"
            ]
          },
          "metadata": {},
          "execution_count": 21
        }
      ],
      "source": [
        "df.customer_type.unique()"
      ]
    },
    {
      "cell_type": "code",
      "execution_count": null,
      "metadata": {
        "colab": {
          "base_uri": "https://localhost:8080/"
        },
        "id": "mDWaQvHkI4ai",
        "outputId": "ec5ef7c7-e890-4d6a-bb21-9012a3e8d661"
      },
      "outputs": [
        {
          "output_type": "execute_result",
          "data": {
            "text/plain": [
              "array(['Check-Out', 'Canceled', 'No-Show'], dtype=object)"
            ]
          },
          "metadata": {},
          "execution_count": 22
        }
      ],
      "source": [
        "df.reservation_status.unique()"
      ]
    },
    {
      "cell_type": "code",
      "execution_count": null,
      "metadata": {
        "colab": {
          "base_uri": "https://localhost:8080/"
        },
        "id": "1tZ4AgymI9gO",
        "outputId": "8c505f93-f8b5-433b-eaba-36bc1cbe4322"
      },
      "outputs": [
        {
          "output_type": "execute_result",
          "data": {
            "text/plain": [
              "array(['2015-07-01', '2015-07-02', '2015-07-03', '2015-05-06',\n",
              "       '2015-04-22', '2015-06-23', '2015-07-05', '2015-07-06',\n",
              "       '2015-07-07', '2015-07-08', '2015-05-11', '2015-07-15',\n",
              "       '2015-07-16', '2015-05-29', '2015-05-19', '2015-06-19',\n",
              "       '2015-05-23', '2015-05-18', '2015-07-09', '2015-06-02',\n",
              "       '2015-07-13', '2015-07-04', '2015-06-29', '2015-06-16',\n",
              "       '2015-06-18', '2015-06-12', '2015-06-09', '2015-05-26',\n",
              "       '2015-07-11', '2015-07-12', '2015-07-17', '2015-04-15',\n",
              "       '2015-05-13', '2015-07-10', '2015-05-20', '2015-05-12',\n",
              "       '2015-07-14', '2015-06-17', '2015-05-01', '2015-03-30',\n",
              "       '2015-07-19', '2015-06-03', '2015-06-26', '2015-05-14',\n",
              "       '2015-07-20', '2015-05-07', '2015-05-28', '2015-04-13',\n",
              "       '2015-03-25', '2015-07-21', '2015-06-27', '2015-07-18',\n",
              "       '2015-07-23', '2015-06-08', '2015-06-22', '2015-06-24',\n",
              "       '2015-03-05', '2015-06-01', '2015-04-24', '2015-07-22',\n",
              "       '2015-05-27', '2015-04-06', '2015-04-11', '2015-07-25',\n",
              "       '2015-07-28', '2015-07-29', '2015-06-25', '2015-07-24',\n",
              "       '2015-06-05', '2015-06-30', '2015-06-13', '2015-06-11',\n",
              "       '2015-07-30', '2015-07-27', '2015-04-29', '2015-06-04',\n",
              "       '2015-07-26', '2015-08-01', '2015-08-02', '2015-06-15',\n",
              "       '2015-04-23', '2015-07-31', '2015-05-25', '2015-08-03',\n",
              "       '2015-04-17', '2015-08-04', '2015-08-06', '2015-05-15',\n",
              "       '2015-05-09', '2015-03-17', '2015-05-22', '2015-08-07',\n",
              "       '2015-04-04', '2015-08-05', '2015-08-08', '2015-08-10',\n",
              "       '2015-05-04', '2015-06-06', '2015-08-09', '2015-08-15',\n",
              "       '2015-08-11', '2015-03-28', '2015-08-14', '2015-08-12',\n",
              "       '2015-08-16', '2015-05-16', '2015-08-21', '2015-08-13',\n",
              "       '2015-08-17', '2015-04-20', '2015-08-18', '2015-08-23',\n",
              "       '2015-08-22', '2015-08-19', '2015-08-20', '2015-08-29',\n",
              "       '2015-03-31', '2015-05-30', '2015-08-25', '2015-04-14',\n",
              "       '2015-08-24', '2015-03-24', '2015-05-21', '2015-08-28',\n",
              "       '2015-08-26', '2015-08-27', '2015-08-30', '2015-08-31',\n",
              "       '2015-09-06', '2015-09-03', '2015-09-04', '2015-09-02',\n",
              "       '2015-09-01', '2015-09-05', '2015-06-20', '2015-09-07',\n",
              "       '2015-09-10', '2015-09-11', '2015-09-08', '2015-09-09',\n",
              "       '2015-09-13', '2015-09-15', '2015-04-10', '2015-01-02',\n",
              "       '2014-11-18', '2015-09-12', '2015-09-17', '2015-09-14',\n",
              "       '2015-04-07', '2015-09-19', '2015-09-16', '2015-09-20',\n",
              "       '2015-01-18', '2015-10-23', '2015-01-22', '2015-01-01',\n",
              "       '2015-09-22', '2015-09-24', '2015-09-18', '2015-09-21',\n",
              "       '2015-09-30', '2015-09-25', '2015-09-27', '2015-09-28',\n",
              "       '2015-10-12', '2015-09-29', '2015-09-23', '2015-10-01',\n",
              "       '2015-09-26', '2015-04-18', '2015-10-02', '2015-10-04',\n",
              "       '2015-10-08', '2015-10-03', '2015-10-07', '2015-10-09',\n",
              "       '2015-10-11', '2015-10-05', '2015-10-06', '2015-10-10',\n",
              "       '2015-10-14', '2015-10-15', '2015-10-18', '2015-10-13',\n",
              "       '2015-10-20', '2015-10-19', '2015-10-31', '2015-10-16',\n",
              "       '2015-10-21', '2015-10-22', '2015-10-17', '2015-10-24',\n",
              "       '2015-10-25', '2015-10-28', '2015-10-27', '2015-10-26',\n",
              "       '2015-10-30', '2015-11-05', '2015-10-29', '2015-11-03',\n",
              "       '2015-11-07', '2015-11-04', '2015-11-01', '2015-11-02',\n",
              "       '2015-11-17', '2015-11-06', '2015-11-10', '2015-11-08',\n",
              "       '2015-11-09', '2015-11-15', '2015-11-16', '2015-11-11',\n",
              "       '2015-11-12', '2015-11-14', '2015-11-13', '2015-11-18',\n",
              "       '2015-11-22', '2015-11-19', '2015-11-21', '2015-11-20',\n",
              "       '2015-11-24', '2015-11-25', '2015-11-23', '2015-11-28',\n",
              "       '2015-11-26', '2015-11-27', '2015-11-29', '2015-12-04',\n",
              "       '2015-12-01', '2015-12-06', '2015-12-08', '2015-12-02',\n",
              "       '2015-12-03', '2015-12-31', '2015-12-05', '2015-12-10',\n",
              "       '2015-12-17', '2015-11-30', '2015-12-12', '2015-12-07',\n",
              "       '2016-01-05', '2015-12-11', '2015-12-13', '2015-12-15',\n",
              "       '2015-12-16', '2015-12-19', '2015-12-18', '2015-12-26',\n",
              "       '2015-12-27', '2015-12-22', '2015-12-23', '2015-12-24',\n",
              "       '2015-12-29', '2015-12-28', '2015-12-20', '2015-12-30',\n",
              "       '2016-01-02', '2016-01-01', '2015-12-25', '2016-01-03',\n",
              "       '2016-01-04', '2016-01-11', '2016-01-07', '2015-12-21',\n",
              "       '2016-01-09', '2016-01-10', '2016-01-08', '2016-01-06',\n",
              "       '2016-01-12', '2016-01-13', '2016-01-23', '2016-02-09',\n",
              "       '2016-01-15', '2016-01-16', '2016-01-17', '2016-01-19',\n",
              "       '2016-01-18', '2016-01-21', '2016-01-24', '2016-01-22',\n",
              "       '2016-01-29', '2016-01-27', '2016-01-25', '2016-03-08',\n",
              "       '2016-01-26', '2016-01-20', '2016-01-30', '2016-02-01',\n",
              "       '2016-02-02', '2016-02-08', '2016-02-07', '2016-01-28',\n",
              "       '2016-02-05', '2016-02-03', '2016-02-13', '2016-02-10',\n",
              "       '2016-02-04', '2016-02-12', '2016-02-11', '2016-02-16',\n",
              "       '2016-02-14', '2016-02-15', '2016-02-20', '2016-02-06',\n",
              "       '2016-01-14', '2016-02-17', '2016-02-21', '2016-02-24',\n",
              "       '2016-02-25', '2016-02-19', '2016-02-18', '2016-02-26',\n",
              "       '2016-02-23', '2016-03-05', '2016-02-22', '2016-02-27',\n",
              "       '2016-03-03', '2016-03-24', '2016-03-04', '2016-02-29',\n",
              "       '2016-03-01', '2016-03-02', '2016-03-30', '2016-03-07',\n",
              "       '2016-03-14', '2016-03-21', '2016-03-09', '2016-03-12',\n",
              "       '2016-03-22', '2016-03-10', '2016-03-11', '2016-03-20',\n",
              "       '2016-03-15', '2016-03-17', '2016-03-16', '2016-03-19',\n",
              "       '2016-03-27', '2016-03-18', '2016-03-26', '2016-03-31',\n",
              "       '2016-03-28', '2016-03-29', '2016-04-01', '2016-03-23',\n",
              "       '2016-04-02', '2016-03-25', '2016-03-13', '2016-04-04',\n",
              "       '2016-04-03', '2016-04-05', '2016-04-08', '2016-04-06',\n",
              "       '2016-04-09', '2016-04-12', '2016-04-16', '2016-04-17',\n",
              "       '2016-04-27', '2016-04-14', '2016-04-18', '2016-04-21',\n",
              "       '2016-04-19', '2016-04-20', '2016-04-10', '2016-04-13',\n",
              "       '2016-04-11', '2016-04-07', '2016-04-15', '2016-04-22',\n",
              "       '2016-04-23', '2016-04-26', '2016-04-28', '2016-04-24',\n",
              "       '2016-04-25', '2016-04-29', '2016-04-30', '2016-05-01',\n",
              "       '2016-05-10', '2016-05-02', '2016-05-07', '2016-05-08',\n",
              "       '2016-05-12', '2016-05-04', '2016-05-06', '2016-05-03',\n",
              "       '2016-05-09', '2016-05-05', '2016-05-13', '2016-05-14',\n",
              "       '2016-05-18', '2016-05-19', '2016-05-15', '2016-05-16',\n",
              "       '2016-05-11', '2016-05-21', '2016-05-22', '2016-05-20',\n",
              "       '2016-05-24', '2016-05-25', '2016-05-26', '2016-05-23',\n",
              "       '2016-05-27', '2016-05-17', '2016-05-29', '2016-05-28',\n",
              "       '2016-05-30', '2016-05-31', '2016-06-01', '2016-06-03',\n",
              "       '2016-06-08', '2016-06-02', '2016-06-05', '2016-06-06',\n",
              "       '2016-06-13', '2016-06-07', '2016-06-10', '2016-06-11',\n",
              "       '2016-06-16', '2016-06-12', '2016-06-14', '2016-06-17',\n",
              "       '2016-06-04', '2016-06-18', '2016-06-21', '2016-06-09',\n",
              "       '2016-06-24', '2016-06-20', '2016-06-25', '2016-06-22',\n",
              "       '2016-06-26', '2016-06-23', '2016-07-01', '2016-06-15',\n",
              "       '2016-06-28', '2016-07-02', '2016-06-19', '2016-06-27',\n",
              "       '2016-07-04', '2016-06-30', '2016-07-05', '2016-07-08',\n",
              "       '2016-07-09', '2016-07-07', '2016-07-12', '2016-06-29',\n",
              "       '2016-07-10', '2016-07-15', '2016-07-03', '2016-07-16',\n",
              "       '2016-07-14', '2016-07-18', '2016-07-13', '2016-07-06',\n",
              "       '2016-07-20', '2016-07-21', '2016-07-23', '2016-07-19',\n",
              "       '2016-07-11', '2016-07-28', '2016-07-17', '2016-07-25',\n",
              "       '2016-07-22', '2016-07-29', '2016-08-03', '2016-08-02',\n",
              "       '2016-08-04', '2016-08-08', '2016-08-10', '2016-08-01',\n",
              "       '2016-08-06', '2016-03-06', '2016-08-05', '2016-07-26',\n",
              "       '2016-08-07', '2016-07-30', '2016-07-24', '2016-08-12',\n",
              "       '2016-07-27', '2016-08-13', '2016-08-18', '2016-08-16',\n",
              "       '2016-08-15', '2016-08-17', '2016-08-11', '2016-07-31',\n",
              "       '2016-08-19', '2016-09-01', '2016-08-23', '2016-08-26',\n",
              "       '2016-08-20', '2016-08-21', '2016-09-04', '2016-08-22',\n",
              "       '2016-08-27', '2016-08-25', '2016-08-09', '2016-09-05',\n",
              "       '2016-08-24', '2016-09-10', '2016-08-29', '2016-09-09',\n",
              "       '2016-08-30', '2016-09-13', '2016-08-31', '2016-09-14',\n",
              "       '2016-09-12', '2016-09-15', '2016-08-14', '2016-09-02',\n",
              "       '2016-09-08', '2016-09-19', '2016-09-16', '2016-09-07',\n",
              "       '2016-09-21', '2016-09-06', '2016-09-22', '2016-09-17',\n",
              "       '2016-09-20', '2016-09-03', '2016-09-26', '2016-09-23',\n",
              "       '2016-09-18', '2016-09-29', '2016-10-02', '2016-10-01',\n",
              "       '2016-09-27', '2016-09-25', '2016-10-05', '2016-09-11',\n",
              "       '2016-09-30', '2016-10-09', '2016-10-03', '2016-10-06',\n",
              "       '2016-10-11', '2016-09-24', '2016-10-13', '2016-09-28',\n",
              "       '2016-10-08', '2016-10-07', '2016-10-16', '2016-08-28',\n",
              "       '2016-10-17', '2016-10-18', '2016-10-10', '2016-10-04',\n",
              "       '2016-10-15', '2016-10-19', '2016-10-21', '2016-10-12',\n",
              "       '2016-10-24', '2016-10-26', '2016-10-23', '2016-10-20',\n",
              "       '2016-10-25', '2016-10-27', '2016-10-28', '2016-10-30',\n",
              "       '2016-10-29', '2016-11-01', '2016-11-04', '2016-10-14',\n",
              "       '2016-11-07', '2016-11-03', '2016-11-10', '2016-11-14',\n",
              "       '2016-11-02', '2016-10-31', '2016-11-11', '2016-11-08',\n",
              "       '2016-11-05', '2016-11-25', '2016-11-09', '2016-11-20',\n",
              "       '2016-11-21', '2016-10-22', '2016-11-22', '2016-11-16',\n",
              "       '2016-11-23', '2016-11-17', '2016-11-06', '2016-11-15',\n",
              "       '2016-11-13', '2016-11-12', '2016-11-27', '2016-11-19',\n",
              "       '2016-11-30', '2016-11-18', '2016-12-02', '2016-12-04',\n",
              "       '2016-11-29', '2016-12-07', '2016-11-28', '2016-12-03',\n",
              "       '2016-12-06', '2016-11-24', '2016-12-08', '2016-12-05',\n",
              "       '2016-12-10', '2016-12-13', '2016-12-14', '2016-12-16',\n",
              "       '2016-12-15', '2016-12-17', '2016-12-19', '2016-12-21',\n",
              "       '2016-12-20', '2016-12-22', '2016-12-23', '2016-12-24',\n",
              "       '2016-12-01', '2016-12-27', '2016-12-29', '2016-12-30',\n",
              "       '2016-12-12', '2017-01-02', '2016-12-11', '2017-01-03',\n",
              "       '2017-01-04', '2017-01-01', '2016-12-26', '2017-01-06',\n",
              "       '2016-12-28', '2016-12-18', '2017-01-10', '2017-01-11',\n",
              "       '2017-01-07', '2017-01-12', '2017-01-16', '2017-01-14',\n",
              "       '2017-01-13', '2017-01-05', '2017-01-17', '2017-01-20',\n",
              "       '2016-12-09', '2017-01-26', '2016-12-31', '2017-01-23',\n",
              "       '2017-01-27', '2017-01-28', '2017-01-19', '2017-01-25',\n",
              "       '2017-01-24', '2017-01-29', '2017-01-18', '2016-12-25',\n",
              "       '2017-01-15', '2017-01-21', '2017-02-01', '2017-02-02',\n",
              "       '2017-01-31', '2017-02-03', '2017-02-04', '2017-02-06',\n",
              "       '2017-02-07', '2017-02-08', '2017-01-30', '2017-02-09',\n",
              "       '2017-01-09', '2017-02-11', '2017-02-10', '2017-02-12',\n",
              "       '2017-02-13', '2017-02-14', '2017-02-16', '2017-02-17',\n",
              "       '2017-02-18', '2017-02-19', '2017-02-20', '2017-02-15',\n",
              "       '2017-02-21', '2017-02-22', '2017-02-26', '2017-02-23',\n",
              "       '2017-02-24', '2017-02-25', '2017-02-28', '2017-03-05',\n",
              "       '2017-02-27', '2017-03-03', '2017-03-06', '2017-03-02',\n",
              "       '2017-03-08', '2017-03-09', '2017-03-10', '2017-03-07',\n",
              "       '2017-03-12', '2017-03-13', '2017-03-14', '2017-03-01',\n",
              "       '2017-03-18', '2017-03-17', '2017-03-24', '2017-03-22',\n",
              "       '2017-03-26', '2017-03-27', '2017-03-11', '2017-03-28',\n",
              "       '2017-03-29', '2017-03-30', '2017-03-31', '2017-03-19',\n",
              "       '2017-01-22', '2017-04-02', '2017-03-20', '2017-04-03',\n",
              "       '2017-01-08', '2017-03-23', '2017-04-05', '2017-02-05',\n",
              "       '2017-04-04', '2017-03-15', '2017-04-07', '2017-03-25',\n",
              "       '2017-04-08', '2017-04-06', '2017-03-21', '2017-04-10',\n",
              "       '2017-04-01', '2017-04-11', '2017-04-13', '2017-04-15',\n",
              "       '2017-04-12', '2017-03-04', '2017-04-19', '2017-04-22',\n",
              "       '2017-04-20', '2017-05-02', '2017-04-09', '2017-04-23',\n",
              "       '2017-04-24', '2017-04-16', '2017-04-28', '2017-04-18',\n",
              "       '2017-04-26', '2017-04-25', '2017-04-17', '2017-04-21',\n",
              "       '2017-05-03', '2017-05-04', '2017-03-16', '2017-05-05',\n",
              "       '2017-04-29', '2017-04-14', '2017-05-08', '2017-04-27',\n",
              "       '2017-05-11', '2017-05-01', '2017-05-10', '2017-05-13',\n",
              "       '2017-05-06', '2017-05-14', '2017-05-16', '2017-04-30',\n",
              "       '2017-05-15', '2017-05-07', '2017-05-09', '2017-05-17',\n",
              "       '2017-05-21', '2017-05-12', '2017-05-22', '2017-05-24',\n",
              "       '2017-05-23', '2017-05-25', '2017-05-26', '2017-05-28',\n",
              "       '2017-05-27', '2017-05-29', '2017-05-19', '2017-05-31',\n",
              "       '2017-05-20', '2017-06-01', '2017-05-30', '2017-06-02',\n",
              "       '2016-11-26', '2017-06-04', '2017-06-05', '2017-06-06',\n",
              "       '2017-06-07', '2017-05-18', '2017-06-09', '2017-06-10',\n",
              "       '2017-06-11', '2017-06-12', '2017-06-14', '2017-06-08',\n",
              "       '2017-06-16', '2017-06-13', '2017-06-03', '2017-06-24',\n",
              "       '2017-06-20', '2017-06-19', '2017-06-21', '2017-06-26',\n",
              "       '2017-06-27', '2017-06-22', '2017-06-28', '2017-06-15',\n",
              "       '2017-06-29', '2017-06-30', '2017-06-18', '2017-07-04',\n",
              "       '2017-07-08', '2017-07-05', '2017-07-03', '2017-07-07',\n",
              "       '2017-07-01', '2017-07-06', '2017-07-11', '2017-07-12',\n",
              "       '2017-06-23', '2017-07-13', '2017-07-02', '2017-07-10',\n",
              "       '2017-07-14', '2017-07-15', '2017-07-16', '2017-07-18',\n",
              "       '2017-07-17', '2017-07-19', '2017-07-20', '2017-07-21',\n",
              "       '2017-06-25', '2017-06-17', '2017-07-24', '2017-07-26',\n",
              "       '2017-07-09', '2017-07-27', '2017-07-28', '2017-07-31',\n",
              "       '2017-07-29', '2017-07-22', '2017-08-02', '2017-08-01',\n",
              "       '2017-08-03', '2017-08-04', '2017-07-25', '2017-07-23',\n",
              "       '2017-08-09', '2017-08-10', '2017-07-30', '2017-08-07',\n",
              "       '2017-08-13', '2017-08-05', '2017-08-14', '2017-08-08',\n",
              "       '2017-08-16', '2017-08-17', '2017-08-15', '2017-08-18',\n",
              "       '2017-08-20', '2017-08-22', '2017-08-06', '2017-08-25',\n",
              "       '2017-08-26', '2017-08-23', '2017-08-11', '2017-08-27',\n",
              "       '2017-08-21', '2017-08-29', '2017-08-31', '2017-08-12',\n",
              "       '2017-08-19', '2016-01-31', '2017-09-01', '2017-08-28',\n",
              "       '2015-04-03', '2015-01-21', '2015-01-28', '2015-01-29',\n",
              "       '2015-01-30', '2015-02-02', '2015-02-05', '2015-02-06',\n",
              "       '2015-02-09', '2015-02-10', '2015-02-11', '2015-02-12',\n",
              "       '2015-02-19', '2015-02-20', '2015-02-23', '2015-02-24',\n",
              "       '2015-02-25', '2015-02-26', '2015-02-27', '2015-03-03',\n",
              "       '2015-03-04', '2015-03-06', '2015-03-09', '2015-03-11',\n",
              "       '2015-03-12', '2015-03-18', '2015-04-02', '2015-06-14',\n",
              "       '2015-04-08', '2015-04-16', '2015-04-25', '2015-04-28',\n",
              "       '2015-05-08', '2017-09-06', '2016-02-28', '2015-12-09',\n",
              "       '2015-12-14', '2017-09-09', '2017-09-02', '2017-08-24',\n",
              "       '2017-08-30', '2017-09-03', '2017-09-04', '2017-09-05',\n",
              "       '2017-09-07', '2017-09-08', '2017-09-10', '2017-09-12',\n",
              "       '2017-09-14', '2015-04-30', '2015-04-21', '2015-04-05',\n",
              "       '2015-03-13', '2015-05-05', '2015-03-29', '2015-06-10',\n",
              "       '2015-04-27', '2014-10-17', '2015-01-20', '2015-02-17',\n",
              "       '2015-03-10', '2015-03-23'], dtype=object)"
            ]
          },
          "metadata": {},
          "execution_count": 23
        }
      ],
      "source": [
        "df.reservation_status_date.unique()"
      ]
    },
    {
      "cell_type": "code",
      "execution_count": null,
      "metadata": {
        "colab": {
          "base_uri": "https://localhost:8080/"
        },
        "id": "JN1Z-5C8JM66",
        "outputId": "3423d472-06b1-4cde-aaec-ebded46a040b"
      },
      "outputs": [
        {
          "output_type": "execute_result",
          "data": {
            "text/plain": [
              "926"
            ]
          },
          "metadata": {},
          "execution_count": 24
        }
      ],
      "source": [
        "df.reservation_status_date.nunique()"
      ]
    },
    {
      "cell_type": "markdown",
      "metadata": {
        "id": "qgMuCRXwtuIA"
      },
      "source": [
        "So there are 926 days of reservation date"
      ]
    },
    {
      "cell_type": "markdown",
      "metadata": {
        "id": "BAWRLIuvuGui"
      },
      "source": [
        "####**Data Wrangling**"
      ]
    },
    {
      "cell_type": "code",
      "execution_count": null,
      "metadata": {
        "colab": {
          "base_uri": "https://localhost:8080/"
        },
        "id": "cId7yhwmuCls",
        "outputId": "10e7c920-579f-4522-e85e-5c18fc93b805"
      },
      "outputs": [
        {
          "output_type": "execute_result",
          "data": {
            "text/plain": [
              "City Hotel      66.4%\n",
              "Resort Hotel    33.6%\n",
              "Name: hotel, dtype: object"
            ]
          },
          "metadata": {},
          "execution_count": 25
        }
      ],
      "source": [
        "#it is always a best advise to create a copy of data frame so we will not disturb any datapoints in dataframe\n",
        "df_eda=df.copy()\n",
        "#first we will check majority of hotel types\n",
        "df_eda.hotel.value_counts(normalize=True).mul(100).round(1).astype(str) + '%'"
      ]
    },
    {
      "cell_type": "code",
      "execution_count": null,
      "metadata": {
        "colab": {
          "base_uri": "https://localhost:8080/",
          "height": 334
        },
        "id": "PqTDMqNIvwiP",
        "outputId": "b793c62a-26b0-452d-829d-2995f21729ce"
      },
      "outputs": [
        {
          "output_type": "stream",
          "name": "stderr",
          "text": [
            "/usr/local/lib/python3.8/dist-packages/seaborn/_decorators.py:36: FutureWarning: Pass the following variable as a keyword arg: x. From version 0.12, the only valid positional argument will be `data`, and passing other arguments without an explicit keyword will result in an error or misinterpretation.\n",
            "  warnings.warn(\n"
          ]
        },
        {
          "output_type": "display_data",
          "data": {
            "text/plain": [
              "<Figure size 432x288 with 1 Axes>"
            ],
            "image/png": "[encoded data removed]"
          },
          "metadata": {
            "needs_background": "light"
          }
        }
      ],
      "source": [
        "sns.countplot(df_eda.hotel)\n",
        "plt.show()"
      ]
    },
    {
      "cell_type": "markdown",
      "metadata": {
        "id": "kMnPtT-HxNGo"
      },
      "source": [
        "There are 66.34% city hotel and 33.66% Resort hotel that means we have city hotel data as compared to Resort Hotel"
      ]
    },
    {
      "cell_type": "code",
      "execution_count": null,
      "metadata": {
        "colab": {
          "base_uri": "https://localhost:8080/"
        },
        "id": "2ZALYSRPxMgu",
        "outputId": "d65caee5-7cc1-4731-b9db-8bd32baec20f"
      },
      "outputs": [
        {
          "output_type": "execute_result",
          "data": {
            "text/plain": [
              "0    63.0%\n",
              "1    37.0%\n",
              "Name: is_canceled, dtype: object"
            ]
          },
          "metadata": {},
          "execution_count": 27
        }
      ],
      "source": [
        "df_eda.is_canceled.value_counts(normalize=True).mul(100).round(1).astype(str) + '%'"
      ]
    },
    {
      "cell_type": "markdown",
      "metadata": {
        "id": "7wH0SJ0P4DV_"
      },
      "source": [
        "There are 37% booking which were cancelled and 63% were successfull"
      ]
    },
    {
      "cell_type": "code",
      "execution_count": null,
      "metadata": {
        "colab": {
          "base_uri": "https://localhost:8080/",
          "height": 352
        },
        "id": "ZF5DeGTv3twE",
        "outputId": "baf874dc-8cb0-4ac0-f5d8-6f06aab3f75f"
      },
      "outputs": [
        {
          "output_type": "stream",
          "name": "stderr",
          "text": [
            "/usr/local/lib/python3.8/dist-packages/seaborn/_decorators.py:36: FutureWarning: Pass the following variable as a keyword arg: x. From version 0.12, the only valid positional argument will be `data`, and passing other arguments without an explicit keyword will result in an error or misinterpretation.\n",
            "  warnings.warn(\n"
          ]
        },
        {
          "output_type": "execute_result",
          "data": {
            "text/plain": [
              "<AxesSubplot:xlabel='is_canceled', ylabel='count'>"
            ]
          },
          "metadata": {},
          "execution_count": 28
        },
        {
          "output_type": "display_data",
          "data": {
            "text/plain": [
              "<Figure size 432x288 with 1 Axes>"
            ],
            "image/png": "[encoded data removed]"
          },
          "metadata": {
            "needs_background": "light"
          }
        }
      ],
      "source": [
        "sns.countplot(df_eda.is_canceled)"
      ]
    },
    {
      "cell_type": "code",
      "execution_count": null,
      "metadata": {
        "colab": {
          "base_uri": "https://localhost:8080/",
          "height": 297
        },
        "id": "ulKRCQ8c4t93",
        "outputId": "8b152a27-8c6e-46c7-f677-87eac7a0e841"
      },
      "outputs": [
        {
          "output_type": "execute_result",
          "data": {
            "text/plain": [
              "<AxesSubplot:xlabel='arrival_date_year', ylabel='count'>"
            ]
          },
          "metadata": {},
          "execution_count": 29
        },
        {
          "output_type": "display_data",
          "data": {
            "text/plain": [
              "<Figure size 432x288 with 1 Axes>"
            ],
            "image/png": "[encoded data removed]"
          },
          "metadata": {
            "needs_background": "light"
          }
        }
      ],
      "source": [
        "df_1=df_eda.groupby('arrival_date_year').is_canceled.value_counts().reset_index(name='count')\n",
        "sns.barplot(x = df_1['arrival_date_year'],y=df_1['count'],hue = df_1['is_canceled'],palette=['green','yellow'])"
      ]
    },
    {
      "cell_type": "markdown",
      "metadata": {
        "id": "BFgu8N_is3LY"
      },
      "source": [
        "In 2016 Hotels have most successuful business and in 2015 least"
      ]
    },
    {
      "cell_type": "code",
      "execution_count": null,
      "metadata": {
        "colab": {
          "base_uri": "https://localhost:8080/",
          "height": 352
        },
        "id": "mLd-ILc7x3rU",
        "outputId": "d425037f-cae3-41b4-9031-9bfc205a58ee"
      },
      "outputs": [
        {
          "output_type": "stream",
          "name": "stderr",
          "text": [
            "/usr/local/lib/python3.8/dist-packages/seaborn/_decorators.py:36: FutureWarning: Pass the following variable as a keyword arg: x. From version 0.12, the only valid positional argument will be `data`, and passing other arguments without an explicit keyword will result in an error or misinterpretation.\n",
            "  warnings.warn(\n"
          ]
        },
        {
          "output_type": "execute_result",
          "data": {
            "text/plain": [
              "<AxesSubplot:xlabel='stays_in_weekend_nights', ylabel='count'>"
            ]
          },
          "metadata": {},
          "execution_count": 30
        },
        {
          "output_type": "display_data",
          "data": {
            "text/plain": [
              "<Figure size 432x288 with 1 Axes>"
            ],
            "image/png": "[encoded data removed]"
          },
          "metadata": {
            "needs_background": "light"
          }
        }
      ],
      "source": [
        "sns.countplot(df_eda.stays_in_weekend_nights)"
      ]
    },
    {
      "cell_type": "code",
      "execution_count": null,
      "metadata": {
        "colab": {
          "base_uri": "https://localhost:8080/"
        },
        "id": "W4sb6iMf08Ac",
        "outputId": "1986d6b8-1880-431d-bb17-928cccff0fcb"
      },
      "outputs": [
        {
          "output_type": "execute_result",
          "data": {
            "text/plain": [
              "110746"
            ]
          },
          "metadata": {},
          "execution_count": 31
        }
      ],
      "source": [
        "df_eda.stays_in_weekend_nights.sum()\n"
      ]
    },
    {
      "cell_type": "code",
      "execution_count": null,
      "metadata": {
        "colab": {
          "base_uri": "https://localhost:8080/"
        },
        "id": "XL7NzSQVxdE7",
        "outputId": "b19d8c67-22b1-4680-cda6-a35aad6eeb20"
      },
      "outputs": [
        {
          "output_type": "execute_result",
          "data": {
            "text/plain": [
              "298511"
            ]
          },
          "metadata": {},
          "execution_count": 32
        }
      ],
      "source": [
        "df_eda.stays_in_week_nights.sum()"
      ]
    },
    {
      "cell_type": "code",
      "execution_count": null,
      "metadata": {
        "colab": {
          "base_uri": "https://localhost:8080/",
          "height": 375
        },
        "id": "xRcK57RzzFeU",
        "outputId": "ef1d679e-a554-4623-dcf9-1b069c9aca83"
      },
      "outputs": [
        {
          "output_type": "display_data",
          "data": {
            "text/plain": [
              "<Figure size 720x432 with 1 Axes>"
            ],
            "image/png": "[encoded data removed]"
          },
          "metadata": {
            "needs_background": "light"
          }
        }
      ],
      "source": [
        "weekend_Stay=df_eda.stays_in_weekend_nights.median()\n",
        "weekday_Stay=df_eda.stays_in_week_nights.median()\n",
        "labels=['stays_in_weekend_nights','stays_in_week_nights']\n",
        "data=[weekend_Stay,weekday_Stay]\n",
        "\n",
        "plt.figure(figsize = (10,6))\n",
        "y_pos = np.arange(len(labels))\n",
        "plt.bar(y_pos, data,color=['black','yellow'])\n",
        "plt.xticks(y_pos, labels)\n",
        "plt.show()"
      ]
    },
    {
      "cell_type": "markdown",
      "metadata": {
        "id": "GVy1NKsvyt73"
      },
      "source": [
        "so for stay as we seen distrbution is between 0-2 for weekend stay and 0-7 for weeknight so we used median for checking mid values of dist of both"
      ]
    },
    {
      "cell_type": "code",
      "source": [
        "grouped_hotels=df_eda.groupby('hotel')\n",
        "df_p=pd.DataFrame(grouped_hotels.days_in_waiting_list.agg(np.mean).reset_index())\n",
        "labels=df_p.hotel.unique()\n",
        "plt.figure(figsize=(6,6))\n",
        "plt.pie(df_p['days_in_waiting_list'],labels=labels,autopct='%1.1f%%',explode=(0,0.05))\n",
        "plt.show()"
      ],
      "metadata": {
        "colab": {
          "base_uri": "https://localhost:8080/",
          "height": 357
        },
        "id": "eaZnSvnQWGxf",
        "outputId": "47de71d6-0b05-496d-e0f5-0fa9d2e55e2c"
      },
      "execution_count": null,
      "outputs": [
        {
          "output_type": "display_data",
          "data": {
            "text/plain": [
              "<Figure size 432x432 with 1 Axes>"
            ],
            "image/png": "[encoded data removed]"
          },
          "metadata": {}
        }
      ]
    },
    {
      "cell_type": "code",
      "execution_count": null,
      "metadata": {
        "colab": {
          "base_uri": "https://localhost:8080/"
        },
        "id": "FlWGdz6oyABz",
        "outputId": "9d4e9fb8-d5fd-4ee7-8b5e-29bbc15a2a5b"
      },
      "outputs": [
        {
          "output_type": "execute_result",
          "data": {
            "text/plain": [
              "<bound method Series.sort_values of 0         0\n",
              "1         0\n",
              "2         0\n",
              "3         0\n",
              "4         0\n",
              "         ..\n",
              "119385    2\n",
              "119386    2\n",
              "119387    2\n",
              "119388    2\n",
              "119389    2\n",
              "Name: stays_in_weekend_nights, Length: 119390, dtype: int64>"
            ]
          },
          "metadata": {},
          "execution_count": 35
        }
      ],
      "source": [
        "df_eda.stays_in_weekend_nights.sort_values"
      ]
    },
    {
      "cell_type": "code",
      "execution_count": null,
      "metadata": {
        "colab": {
          "base_uri": "https://localhost:8080/"
        },
        "id": "tq05ru0d1sEm",
        "outputId": "2cbe6aaa-e5fc-4a31-a303-2eed1f5a1ca7"
      },
      "outputs": [
        {
          "output_type": "execute_result",
          "data": {
            "text/plain": [
              "0"
            ]
          },
          "metadata": {},
          "execution_count": 36
        }
      ],
      "source": [
        "df_eda.stays_in_week_nights.isnull().sum()"
      ]
    },
    {
      "cell_type": "code",
      "source": [
        "df_eda.meal.unique()"
      ],
      "metadata": {
        "colab": {
          "base_uri": "https://localhost:8080/"
        },
        "id": "5X40sa_6BLNx",
        "outputId": "7954e4e4-5862-4828-b253-d276a0d6e5b4"
      },
      "execution_count": null,
      "outputs": [
        {
          "output_type": "execute_result",
          "data": {
            "text/plain": [
              "array(['BB', 'FB', 'HB', 'SC', 'Undefined'], dtype=object)"
            ]
          },
          "metadata": {},
          "execution_count": 64
        }
      ]
    },
    {
      "cell_type": "markdown",
      "metadata": {
        "id": "rn1RAP_42HKb"
      },
      "source": [
        "###**Handling Missing Value **"
      ]
    },
    {
      "cell_type": "code",
      "execution_count": null,
      "metadata": {
        "colab": {
          "base_uri": "https://localhost:8080/"
        },
        "id": "SRxU_Jt7598U",
        "outputId": "8457ded6-bc9e-4166-f23d-167dfa52d86c"
      },
      "outputs": [
        {
          "output_type": "execute_result",
          "data": {
            "text/plain": [
              "hotel                                  0\n",
              "is_canceled                            0\n",
              "lead_time                              0\n",
              "arrival_date_year                      0\n",
              "arrival_date_month                     0\n",
              "arrival_date_week_number               0\n",
              "arrival_date_day_of_month              0\n",
              "stays_in_weekend_nights                0\n",
              "stays_in_week_nights                   0\n",
              "adults                                 0\n",
              "children                               4\n",
              "babies                                 0\n",
              "meal                                   0\n",
              "country                              488\n",
              "market_segment                         0\n",
              "distribution_channel                   0\n",
              "is_repeated_guest                      0\n",
              "previous_cancellations                 0\n",
              "previous_bookings_not_canceled         0\n",
              "reserved_room_type                     0\n",
              "assigned_room_type                     0\n",
              "booking_changes                        0\n",
              "deposit_type                           0\n",
              "agent                              16340\n",
              "company                           112593\n",
              "days_in_waiting_list                   0\n",
              "customer_type                          0\n",
              "adr                                    0\n",
              "required_car_parking_spaces            0\n",
              "total_of_special_requests              0\n",
              "reservation_status                     0\n",
              "reservation_status_date                0\n",
              "dtype: int64"
            ]
          },
          "metadata": {},
          "execution_count": 37
        }
      ],
      "source": [
        "df_eda.isnull().sum()"
      ]
    },
    {
      "cell_type": "markdown",
      "metadata": {
        "id": "vLq3-2286Vsk"
      },
      "source": [
        "As you can see there are four features which are having null values those are 'children','country','agent' and 'company' features,in which children is a numeric feature so here NAN can be replaced by it's mean and other are"
      ]
    },
    {
      "cell_type": "code",
      "execution_count": null,
      "metadata": {
        "colab": {
          "base_uri": "https://localhost:8080/"
        },
        "id": "3UC0NBa2AbM7",
        "outputId": "bb2fbb66-fb4f-47ac-81d1-4ba6366891b0"
      },
      "outputs": [
        {
          "output_type": "execute_result",
          "data": {
            "text/plain": [
              "0           NaN\n",
              "1           NaN\n",
              "2           NaN\n",
              "3         304.0\n",
              "4         240.0\n",
              "          ...  \n",
              "119385    394.0\n",
              "119386      9.0\n",
              "119387      9.0\n",
              "119388     89.0\n",
              "119389      9.0\n",
              "Name: agent, Length: 119390, dtype: float64"
            ]
          },
          "metadata": {},
          "execution_count": 38
        }
      ],
      "source": [
        "df_eda.agent"
      ]
    },
    {
      "cell_type": "code",
      "execution_count": null,
      "metadata": {
        "colab": {
          "base_uri": "https://localhost:8080/"
        },
        "id": "HlaNWtrKBqDa",
        "outputId": "d1a118fb-a335-4694-cd1a-44f13d289203"
      },
      "outputs": [
        {
          "output_type": "execute_result",
          "data": {
            "text/plain": [
              "0         PRT\n",
              "1         PRT\n",
              "2         GBR\n",
              "3         GBR\n",
              "4         GBR\n",
              "         ... \n",
              "119385    BEL\n",
              "119386    FRA\n",
              "119387    DEU\n",
              "119388    GBR\n",
              "119389    DEU\n",
              "Name: country, Length: 119390, dtype: object"
            ]
          },
          "metadata": {},
          "execution_count": 39
        }
      ],
      "source": [
        "df_eda.country"
      ]
    },
    {
      "cell_type": "code",
      "execution_count": null,
      "metadata": {
        "colab": {
          "base_uri": "https://localhost:8080/"
        },
        "id": "3NT6CCV3Bv1B",
        "outputId": "7ec296f5-92c6-4a74-d69e-502bc86aca54"
      },
      "outputs": [
        {
          "output_type": "execute_result",
          "data": {
            "text/plain": [
              "array([ nan, 110., 113., 270., 178., 240., 154., 144., 307., 268.,  59.,\n",
              "       204., 312., 318.,  94., 174., 274., 195., 223., 317., 281., 118.,\n",
              "        53., 286.,  12.,  47., 324., 342., 373., 371., 383.,  86.,  82.,\n",
              "       218.,  88.,  31., 397., 392., 405., 331., 367.,  20.,  83., 416.,\n",
              "        51., 395., 102.,  34.,  84., 360., 394., 457., 382., 461., 478.,\n",
              "       386., 112., 486., 421.,   9., 308., 135., 224., 504., 269., 356.,\n",
              "       498., 390., 513., 203., 263., 477., 521., 169., 515., 445., 337.,\n",
              "       251., 428., 292., 388., 130., 250., 355., 254., 543., 531., 528.,\n",
              "        62., 120.,  42.,  81., 116., 530., 103.,  39.,  16.,  92.,  61.,\n",
              "       501., 165., 291., 290.,  43., 325., 192., 108., 200., 465., 287.,\n",
              "       297., 490., 482., 207., 282., 437., 225., 329., 272.,  28.,  77.,\n",
              "       338.,  72., 246., 319., 146., 159., 380., 323., 511., 407., 278.,\n",
              "        80., 403., 399.,  14., 137., 343., 346., 347., 349., 289., 351.,\n",
              "       353.,  54.,  99., 358., 361., 362., 366., 372., 365., 277., 109.,\n",
              "       377., 379.,  22., 378., 330., 364., 401., 232., 255., 384., 167.,\n",
              "       212., 514., 391., 400., 376., 402., 396., 302., 398.,   6., 370.,\n",
              "       369., 409., 168., 104., 408., 413., 148.,  10., 333., 419., 415.,\n",
              "       424., 425., 423., 422., 435., 439., 442., 448., 443., 454., 444.,\n",
              "        52., 459., 458., 456., 460., 447., 470., 466., 484., 184., 485.,\n",
              "        32., 487., 491., 494., 193., 516., 496., 499.,  29.,  78., 520.,\n",
              "       507., 506., 512., 126.,  64., 242., 518., 523., 539., 534., 436.,\n",
              "       525., 541.,  40., 455., 410.,  45.,  38.,  49.,  48.,  67.,  68.,\n",
              "        65.,  91.,  37.,   8., 179., 209., 219., 221., 227., 153., 186.,\n",
              "       253., 202., 216., 275., 233., 280., 309., 321.,  93., 316.,  85.,\n",
              "       107., 350., 279., 334., 348., 150.,  73., 385., 418., 197., 450.,\n",
              "       452., 115.,  46.,  76.,  96., 100., 105., 101., 122.,  11., 139.,\n",
              "       142., 127., 143., 140., 149., 163., 160., 180., 238., 183., 222.,\n",
              "       185., 217., 215., 213., 237., 230., 234.,  35., 245., 158., 258.,\n",
              "       259., 260., 411., 257., 271.,  18., 106., 210., 273.,  71., 284.,\n",
              "       301., 305., 293., 264., 311., 304., 313., 288., 320., 314., 332.,\n",
              "       341., 352., 243., 368., 393., 132., 220., 412., 420., 426., 417.,\n",
              "       429., 433., 446., 357., 479., 483., 489., 229., 481., 497., 451.,\n",
              "       492.])"
            ]
          },
          "metadata": {},
          "execution_count": 40
        }
      ],
      "source": [
        "df_eda.company.unique()"
      ]
    },
    {
      "cell_type": "code",
      "execution_count": null,
      "metadata": {
        "id": "zYy4wypP2KHj"
      },
      "outputs": [],
      "source": [
        "df_eda.children.fillna(value=df_eda.children.mean(),inplace=True)"
      ]
    },
    {
      "cell_type": "code",
      "execution_count": null,
      "metadata": {
        "colab": {
          "base_uri": "https://localhost:8080/"
        },
        "id": "3JYlfkZa2aAs",
        "outputId": "5c59076c-27ed-4679-f2f9-4a4c01ca6710"
      },
      "outputs": [
        {
          "output_type": "execute_result",
          "data": {
            "text/plain": [
              "0"
            ]
          },
          "metadata": {},
          "execution_count": 42
        }
      ],
      "source": [
        "df_eda.children.isnull().sum()"
      ]
    },
    {
      "cell_type": "code",
      "execution_count": null,
      "metadata": {
        "id": "CzthLjr82jx1"
      },
      "outputs": [],
      "source": [
        "df_eda.country.fillna(value='PRT',inplace=True)"
      ]
    },
    {
      "cell_type": "code",
      "execution_count": null,
      "metadata": {
        "colab": {
          "base_uri": "https://localhost:8080/"
        },
        "id": "BaIQ5GGq3qx1",
        "outputId": "84075dd8-5e52-4c83-d884-e18e2d7a1fac"
      },
      "outputs": [
        {
          "output_type": "execute_result",
          "data": {
            "text/plain": [
              "0"
            ]
          },
          "metadata": {},
          "execution_count": 44
        }
      ],
      "source": [
        "df_eda.country.isnull().sum()"
      ]
    },
    {
      "cell_type": "code",
      "execution_count": null,
      "metadata": {
        "id": "tZ5fX3ha4Uvl"
      },
      "outputs": [],
      "source": [
        "df_eda[['company','agent']]=df_eda[['company','agent']].fillna(value=0)"
      ]
    },
    {
      "cell_type": "code",
      "execution_count": null,
      "metadata": {
        "colab": {
          "base_uri": "https://localhost:8080/"
        },
        "id": "tLSwpTv64tOJ",
        "outputId": "f99b2c66-740d-4e64-8fca-582916d1d9d6"
      },
      "outputs": [
        {
          "output_type": "execute_result",
          "data": {
            "text/plain": [
              "hotel                             0\n",
              "is_canceled                       0\n",
              "reservation_status                0\n",
              "total_of_special_requests         0\n",
              "required_car_parking_spaces       0\n",
              "adr                               0\n",
              "customer_type                     0\n",
              "days_in_waiting_list              0\n",
              "company                           0\n",
              "agent                             0\n",
              "deposit_type                      0\n",
              "booking_changes                   0\n",
              "assigned_room_type                0\n",
              "reserved_room_type                0\n",
              "previous_bookings_not_canceled    0\n",
              "previous_cancellations            0\n",
              "is_repeated_guest                 0\n",
              "distribution_channel              0\n",
              "market_segment                    0\n",
              "country                           0\n",
              "meal                              0\n",
              "babies                            0\n",
              "children                          0\n",
              "adults                            0\n",
              "stays_in_week_nights              0\n",
              "stays_in_weekend_nights           0\n",
              "arrival_date_day_of_month         0\n",
              "arrival_date_week_number          0\n",
              "arrival_date_month                0\n",
              "arrival_date_year                 0\n",
              "lead_time                         0\n",
              "reservation_status_date           0\n",
              "dtype: int64"
            ]
          },
          "metadata": {},
          "execution_count": 46
        }
      ],
      "source": [
        "df_eda.isnull().sum().sort_values(ascending=False)"
      ]
    },
    {
      "cell_type": "markdown",
      "source": [
        "Now there are no missing values so we can start exploring data insights"
      ],
      "metadata": {
        "id": "7RYwmdJzMrNG"
      }
    },
    {
      "cell_type": "markdown",
      "metadata": {
        "id": "GQ9_cGt55xgB"
      },
      "source": [
        "####Adding features"
      ]
    },
    {
      "cell_type": "code",
      "execution_count": null,
      "metadata": {
        "id": "4l61DZi646UW"
      },
      "outputs": [],
      "source": [
        "df_eda['total_stay']=df_eda['stays_in_week_nights']+df_eda['stays_in_weekend_nights']"
      ]
    },
    {
      "cell_type": "code",
      "execution_count": null,
      "metadata": {
        "id": "rYytu7D36QAb"
      },
      "outputs": [],
      "source": [
        "df_eda['total_people']=df_eda['children']+df_eda['adults']+df_eda['babies']"
      ]
    },
    {
      "cell_type": "markdown",
      "metadata": {
        "id": "j6jPVwg678zc"
      },
      "source": [
        "##Some Graphical representation"
      ]
    },
    {
      "cell_type": "code",
      "execution_count": null,
      "metadata": {
        "colab": {
          "base_uri": "https://localhost:8080/",
          "height": 388
        },
        "id": "Wod77pKQ7VPp",
        "outputId": "0d600310-f575-4bec-e119-e13aab644c6a"
      },
      "outputs": [
        {
          "output_type": "display_data",
          "data": {
            "text/plain": [
              "<Figure size 432x432 with 1 Axes>"
            ],
            "image/png": "[encoded data removed]"
          },
          "metadata": {
            "needs_background": "light"
          }
        }
      ],
      "source": [
        "#grouping hotels to do analaysis in comparision ratio\n",
        "\n",
        "df1=grouped_hotels.adr.agg(np.mean).reset_index().rename(columns={'adr':'avg_Adr'})\n",
        "plt.figure(figsize=(6,6))\n",
        "sns.barplot(x=df1['hotel'],y=df1['avg_Adr'],palette=['orange','green'])\n",
        "plt.show()\n"
      ]
    },
    {
      "cell_type": "markdown",
      "metadata": {
        "id": "394bDE_9iN0x"
      },
      "source": [
        "city hotel has more revenue as compare to resort hotel because city hotel has more booking than Resort Hotel"
      ]
    },
    {
      "cell_type": "code",
      "execution_count": null,
      "metadata": {
        "colab": {
          "base_uri": "https://localhost:8080/",
          "height": 405
        },
        "id": "21lDE-jJiiL4",
        "outputId": "2bb00a9f-651f-463d-d5fd-f84ce7c5d33a"
      },
      "outputs": [
        {
          "output_type": "execute_result",
          "data": {
            "text/plain": [
              "<AxesSubplot:xlabel='hotel', ylabel='median_leadtime'>"
            ]
          },
          "metadata": {},
          "execution_count": 50
        },
        {
          "output_type": "display_data",
          "data": {
            "text/plain": [
              "<Figure size 720x432 with 1 Axes>"
            ],
            "image/png": "[encoded data removed]"
          },
          "metadata": {
            "needs_background": "light"
          }
        }
      ],
      "source": [
        "#lead time comparision of city hotel and resort Hotel\n",
        "df2=grouped_hotels.lead_time.median().reset_index().rename(columns ={'lead_time':'median_leadtime'})\n",
        "plt.figure(figsize=(10,6))\n",
        "sns.barplot(x=df2['hotel'],y=df2['median_leadtime'])\n",
        "\n"
      ]
    },
    {
      "cell_type": "markdown",
      "source": [
        "city hotel has more lead time as compare to Resorts"
      ],
      "metadata": {
        "id": "uF06BtCGJo8T"
      }
    },
    {
      "cell_type": "code",
      "source": [
        "successe_stay=df_eda[(df_eda.is_canceled==0)  & (df_eda.total_stay<=15)]\n",
        "plt.figure(figsize=(6,6))\n",
        "sns.countplot(x=successe_stay['total_stay'],hue=successe_stay['hotel'])\n",
        "plt.show()"
      ],
      "metadata": {
        "colab": {
          "base_uri": "https://localhost:8080/",
          "height": 389
        },
        "id": "g2dwhKsVJ2Ed",
        "outputId": "637ee5d1-50cb-4c78-8211-42ea3e381aaf"
      },
      "execution_count": null,
      "outputs": [
        {
          "output_type": "display_data",
          "data": {
            "text/plain": [
              "<Figure size 432x432 with 1 Axes>"
            ],
            "image/png": "[encoded data removed]"
          },
          "metadata": {
            "needs_background": "light"
          }
        }
      ]
    },
    {
      "cell_type": "markdown",
      "source": [
        "Most occured stay are of 3 days in City Hotel"
      ],
      "metadata": {
        "id": "CtRgiAnYM9k4"
      }
    },
    {
      "cell_type": "code",
      "source": [
        "df5=grouped_hotels.days_in_waiting_list.agg(np.mean).reset_index().rename(columns={'days_in_waiting_list':'total_waiting_period'})\n",
        "plt.figure(figsize=(6,6))\n",
        "sns.barplot(x=df5['hotel'],y=df5['total_waiting_period'])\n",
        "plt.show()"
      ],
      "metadata": {
        "colab": {
          "base_uri": "https://localhost:8080/",
          "height": 388
        },
        "id": "5Oiz_gb8Tia9",
        "outputId": "1a2cbfee-d6a9-421a-dbb8-397d12a10ab9"
      },
      "execution_count": null,
      "outputs": [
        {
          "output_type": "display_data",
          "data": {
            "text/plain": [
              "<Figure size 432x432 with 1 Axes>"
            ],
            "image/png": "[encoded data removed]"
          },
          "metadata": {
            "needs_background": "light"
          }
        }
      ]
    },
    {
      "cell_type": "markdown",
      "source": [
        "1. City hotel have average 3 day waiting period\n",
        "2. Resorts have average 0.5 days of waiting"
      ],
      "metadata": {
        "id": "Gox3HX3MVFkm"
      }
    },
    {
      "cell_type": "code",
      "source": [
        "#Bookings cancellation rate\n",
        "# number of cancelled bookings\n",
        "cancel_book = df_eda[df_eda['is_canceled']==1].groupby('hotel')\n",
        "D1 = pd.DataFrame(cancel_book.size()).rename(columns = {0:'total_cancel_booking'})\n",
        "total_booking = grouped_hotels.size()\n",
        "D2 = pd.DataFrame(total_booking).rename(columns = {0: 'total_bookings'})\n",
        "D3 = pd.concat([D1,D2], axis = 1)\n",
        "D3['cancel_%'] = round((D3['total_cancel_booking']/D3['total_bookings'])*100,2)\n",
        "D3"
      ],
      "metadata": {
        "colab": {
          "base_uri": "https://localhost:8080/",
          "height": 143
        },
        "id": "58C7nshtVWZe",
        "outputId": "ff045a78-0e49-4d41-e89a-53df007794ef"
      },
      "execution_count": null,
      "outputs": [
        {
          "output_type": "execute_result",
          "data": {
            "text/plain": [
              "              total_cancel_booking  total_bookings  cancel_%\n",
              "hotel                                                       \n",
              "City Hotel                   33102           79330     41.73\n",
              "Resort Hotel                 11122           40060     27.76"
            ],
            "text/html": [
              "\n",
              "  <div id=\"df-50c2d153-fd40-45d6-bed9-94c60c01447c\">\n",
              "    <div class=\"colab-df-container\">\n",
              "      <div>\n",
              "<style scoped>\n",
              "    .dataframe tbody tr th:only-of-type {\n",
              "        vertical-align: middle;\n",
              "    }\n",
              "\n",
              "    .dataframe tbody tr th {\n",
              "        vertical-align: top;\n",
              "    }\n",
              "\n",
              "    .dataframe thead th {\n",
              "        text-align: right;\n",
              "    }\n",
              "</style>\n",
              "<table border=\"1\" class=\"dataframe\">\n",
              "  <thead>\n",
              "    <tr style=\"text-align: right;\">\n",
              "      <th></th>\n",
              "      <th>total_cancel_booking</th>\n",
              "      <th>total_bookings</th>\n",
              "      <th>cancel_%</th>\n",
              "    </tr>\n",
              "    <tr>\n",
              "      <th>hotel</th>\n",
              "      <th></th>\n",
              "      <th></th>\n",
              "      <th></th>\n",
              "    </tr>\n",
              "  </thead>\n",
              "  <tbody>\n",
              "    <tr>\n",
              "      <th>City Hotel</th>\n",
              "      <td>33102</td>\n",
              "      <td>79330</td>\n",
              "      <td>41.73</td>\n",
              "    </tr>\n",
              "    <tr>\n",
              "      <th>Resort Hotel</th>\n",
              "      <td>11122</td>\n",
              "      <td>40060</td>\n",
              "      <td>27.76</td>\n",
              "    </tr>\n",
              "  </tbody>\n",
              "</table>\n",
              "</div>\n",
              "      <button class=\"colab-df-convert\" onclick=\"convertToInteractive('df-50c2d153-fd40-45d6-bed9-94c60c01447c')\"\n",
              "              title=\"Convert this dataframe to an interactive table.\"\n",
              "              style=\"display:none;\">\n",
              "        \n",
              "  <svg xmlns=\"http://www.w3.org/2000/svg\" height=\"24px\"viewBox=\"0 0 24 24\"\n",
              "       width=\"24px\">\n",
              "    <path d=\"M0 0h24v24H0V0z\" fill=\"none\"/>\n",
              "    <path d=\"M18.56 5.44l.94 2.06.94-2.06 2.06-.94-2.06-.94-.94-2.06-.94 2.06-2.06.94zm-11 1L8.5 8.5l.94-2.06 2.06-.94-2.06-.94L8.5 2.5l-.94 2.06-2.06.94zm10 10l.94 2.06.94-2.06 2.06-.94-2.06-.94-.94-2.06-.94 2.06-2.06.94z\"/><path d=\"M17.41 7.96l-1.37-1.37c-.4-.4-.92-.59-1.43-.59-.52 0-1.04.2-1.43.59L10.3 9.45l-7.72 7.72c-.78.78-.78 2.05 0 2.83L4 21.41c.39.39.9.59 1.41.59.51 0 1.02-.2 1.41-.59l7.78-7.78 2.81-2.81c.8-.78.8-2.07 0-2.86zM5.41 20L4 18.59l7.72-7.72 1.47 1.35L5.41 20z\"/>\n",
              "  </svg>\n",
              "      </button>\n",
              "      \n",
              "  <style>\n",
              "    .colab-df-container {\n",
              "      display:flex;\n",
              "      flex-wrap:wrap;\n",
              "      gap: 12px;\n",
              "    }\n",
              "\n",
              "    .colab-df-convert {\n",
              "      background-color: #E8F0FE;\n",
              "      border: none;\n",
              "      border-radius: 50%;\n",
              "      cursor: pointer;\n",
              "      display: none;\n",
              "      fill: #1967D2;\n",
              "      height: 32px;\n",
              "      padding: 0 0 0 0;\n",
              "      width: 32px;\n",
              "    }\n",
              "\n",
              "    .colab-df-convert:hover {\n",
              "      background-color: #E2EBFA;\n",
              "      box-shadow: 0px 1px 2px rgba(60, 64, 67, 0.3), 0px 1px 3px 1px rgba(60, 64, 67, 0.15);\n",
              "      fill: #174EA6;\n",
              "    }\n",
              "\n",
              "    [theme=dark] .colab-df-convert {\n",
              "      background-color: #3B4455;\n",
              "      fill: #D2E3FC;\n",
              "    }\n",
              "\n",
              "    [theme=dark] .colab-df-convert:hover {\n",
              "      background-color: #434B5C;\n",
              "      box-shadow: 0px 1px 3px 1px rgba(0, 0, 0, 0.15);\n",
              "      filter: drop-shadow(0px 1px 2px rgba(0, 0, 0, 0.3));\n",
              "      fill: #FFFFFF;\n",
              "    }\n",
              "  </style>\n",
              "\n",
              "      <script>\n",
              "        const buttonEl =\n",
              "          document.querySelector('#df-50c2d153-fd40-45d6-bed9-94c60c01447c button.colab-df-convert');\n",
              "        buttonEl.style.display =\n",
              "          google.colab.kernel.accessAllowed ? 'block' : 'none';\n",
              "\n",
              "        async function convertToInteractive(key) {\n",
              "          const element = document.querySelector('#df-50c2d153-fd40-45d6-bed9-94c60c01447c');\n",
              "          const dataTable =\n",
              "            await google.colab.kernel.invokeFunction('convertToInteractive',\n",
              "                                                     [key], {});\n",
              "          if (!dataTable) return;\n",
              "\n",
              "          const docLinkHtml = 'Like what you see? Visit the ' +\n",
              "            '<a target=\"_blank\" href=https://colab.research.google.com/notebooks/data_table.ipynb>data table notebook</a>'\n",
              "            + ' to learn more about interactive tables.';\n",
              "          element.innerHTML = '';\n",
              "          dataTable['output_type'] = 'display_data';\n",
              "          await google.colab.output.renderOutput(dataTable, element);\n",
              "          const docLink = document.createElement('div');\n",
              "          docLink.innerHTML = docLinkHtml;\n",
              "          element.appendChild(docLink);\n",
              "        }\n",
              "      </script>\n",
              "    </div>\n",
              "  </div>\n",
              "  "
            ]
          },
          "metadata": {},
          "execution_count": 53
        }
      ]
    },
    {
      "cell_type": "markdown",
      "source": [
        "City Hotel has approx 41 percentage of cancellation rate and Resort have approx 28 percentage of cancellation rate"
      ],
      "metadata": {
        "id": "UovgUjR5NNCl"
      }
    },
    {
      "cell_type": "code",
      "source": [
        "plt.figure(figsize = (10,5))\n",
        "sns.barplot(x = D3.index, y = D3['cancel_%'],palette=['orange','green'])\n",
        "plt.show()"
      ],
      "metadata": {
        "colab": {
          "base_uri": "https://localhost:8080/",
          "height": 334
        },
        "id": "IFEKP9ImrpDN",
        "outputId": "b42e6445-1c62-428f-cf66-fa01a5f5f321"
      },
      "execution_count": null,
      "outputs": [
        {
          "output_type": "display_data",
          "data": {
            "text/plain": [
              "<Figure size 720x360 with 1 Axes>"
            ],
            "image/png": "[encoded data removed]"
          },
          "metadata": {
            "needs_background": "light"
          }
        }
      ]
    },
    {
      "cell_type": "code",
      "source": [
        "channel_grp=df_eda.groupby('distribution_channel')\n",
        "df6=pd.DataFrame(round(channel_grp.lead_time.median(),2)).reset_index().rename(columns={'lead_time':'median_lead_time'})\n",
        "plt.figure(figsize=(6,6))\n",
        "sns.barplot(x=df6['distribution_channel'],y=df6['median_lead_time'])\n",
        "plt.show()"
      ],
      "metadata": {
        "colab": {
          "base_uri": "https://localhost:8080/",
          "height": 389
        },
        "id": "K0EeSNI6wyn8",
        "outputId": "538d983f-a728-47ea-ec8f-515d58db7d75"
      },
      "execution_count": null,
      "outputs": [
        {
          "output_type": "display_data",
          "data": {
            "text/plain": [
              "<Figure size 432x432 with 1 Axes>"
            ],
            "image/png": "[encoded data removed]"
          },
          "metadata": {
            "needs_background": "light"
          }
        }
      ]
    },
    {
      "cell_type": "markdown",
      "source": [
        "TA/TO has most median lead time that means mostly used for early booking of Hotels"
      ],
      "metadata": {
        "id": "5459bjQIRyrQ"
      }
    },
    {
      "cell_type": "code",
      "source": [
        "df6_1=pd.DataFrame(channel_grp.days_in_waiting_list.mean()).reset_index().rename(columns={'days_in_waiting_list':'median_days_in_waiting_list'})\n",
        "plt.figure(figsize=(6,6))\n",
        "sns.barplot(x=df6_1['distribution_channel'],y=df6_1['median_days_in_waiting_list'])\n",
        "plt.show()"
      ],
      "metadata": {
        "colab": {
          "base_uri": "https://localhost:8080/",
          "height": 389
        },
        "id": "sWZH-EOwylmW",
        "outputId": "484c89ef-9130-4af0-89a3-d7d0c8dc95cc"
      },
      "execution_count": null,
      "outputs": [
        {
          "output_type": "display_data",
          "data": {
            "text/plain": [
              "<Figure size 432x432 with 1 Axes>"
            ],
            "image/png": "[encoded data removed]"
          },
          "metadata": {
            "needs_background": "light"
          }
        }
      ]
    },
    {
      "cell_type": "markdown",
      "source": [
        "As TA/TO channel has most used for early booking thta's why it has more waiting list days"
      ],
      "metadata": {
        "id": "Xcy7zZ3eSQW5"
      }
    },
    {
      "cell_type": "code",
      "source": [
        "d0=pd.DataFrame((channel_grp.is_canceled.sum()/channel_grp.size())*100).drop(index='Undefined').rename(columns = {0: 'Cancel_perc'})\n",
        "plt.figure(figsize=(6,6))\n",
        "sns.barplot(x=d0.index,y=d0['Cancel_perc'])\n",
        "plt.show()"
      ],
      "metadata": {
        "colab": {
          "base_uri": "https://localhost:8080/",
          "height": 389
        },
        "id": "jcHOWBO25JbH",
        "outputId": "62360370-b866-43f4-e620-530687d01d07"
      },
      "execution_count": null,
      "outputs": [
        {
          "output_type": "display_data",
          "data": {
            "text/plain": [
              "<Figure size 432x432 with 1 Axes>"
            ],
            "image/png": "[encoded data removed]"
          },
          "metadata": {
            "needs_background": "light"
          }
        }
      ]
    },
    {
      "cell_type": "markdown",
      "source": [
        "TA/TO channel has most cancellation rate followed by corporate"
      ],
      "metadata": {
        "id": "TyGG-5sGS_xC"
      }
    },
    {
      "cell_type": "code",
      "source": [
        "waiting_bookings = df_eda[df_eda['days_in_waiting_list'] !=0]  # Selecting bookings with non zero waiting time\n",
        "\n",
        "\n",
        "fig, axes = plt.subplots(1, 2, figsize=(18, 8))\n",
        "sns.kdeplot(ax=axes[0],x = 'days_in_waiting_list', hue = 'is_canceled' , data = waiting_bookings)\n",
        "sns.kdeplot(ax = axes[1], x = df_eda['lead_time'], hue = df_eda['is_canceled'])\n",
        "plt.show()"
      ],
      "metadata": {
        "colab": {
          "base_uri": "https://localhost:8080/",
          "height": 439
        },
        "id": "TyZIIMZ77YLl",
        "outputId": "fa96e958-c87f-4781-e0d2-29ef515dfe0e"
      },
      "execution_count": null,
      "outputs": [
        {
          "output_type": "display_data",
          "data": {
            "text/plain": [
              "<Figure size 1296x576 with 2 Axes>"
            ],
            "image/png": "[encoded data removed]"
          },
          "metadata": {
            "needs_background": "light"
          }
        }
      ]
    },
    {
      "cell_type": "markdown",
      "source": [
        "1.Transaction which will be going to cancel have mostly 0-100 days of waiting\n",
        "2. 100-200 days early booking are less prone booking to cancel"
      ],
      "metadata": {
        "id": "7hcJ2LCUTQR0"
      }
    },
    {
      "cell_type": "markdown",
      "source": [
        "As we have assigned room features and reserved room featues we can analyze if are people cancelling their reservation due to room allocation issue"
      ],
      "metadata": {
        "id": "NLdc6GYl8uKx"
      }
    },
    {
      "cell_type": "markdown",
      "source": [],
      "metadata": {
        "id": "GeH3M8-pTwm3"
      }
    },
    {
      "cell_type": "code",
      "source": [
        "def check_room_allotted(x):\n",
        "  if x['reserved_room_type'] != x['assigned_room_type']:\n",
        "    return 1\n",
        "  else:\n",
        "    return 0\n",
        "\n",
        "df_eda['same_room_not_alloted'] = df_eda.apply(lambda x : check_room_allotted(x), axis = 1)\n",
        "grp_by_canc = df_eda.groupby('is_canceled')\n",
        "\n",
        "D3 = pd.DataFrame((grp_by_canc['same_room_not_alloted'].sum()/grp_by_canc.size())*100).rename(columns = {0: 'same_room_not_alloted_%'})\n",
        "plt.figure(figsize = (10,7))\n",
        "explode=(0.05,0.05)\n",
        "data=D3['same_room_not_alloted_%']\n",
        "labels=D3.index\n",
        "plt.pie(data,labels=['No_Mismatch','Mismatch'],autopct='%1.1f%%',explode=explode)\n",
        "plt.show()"
      ],
      "metadata": {
        "id": "xMno53ejBbl3",
        "colab": {
          "base_uri": "https://localhost:8080/",
          "height": 411
        },
        "outputId": "7572058f-09f7-4686-d6c2-70f5106bf15c"
      },
      "execution_count": null,
      "outputs": [
        {
          "output_type": "display_data",
          "data": {
            "text/plain": [
              "<Figure size 720x504 with 1 Axes>"
            ],
            "image/png": "[encoded data removed]"
          },
          "metadata": {}
        }
      ]
    },
    {
      "cell_type": "code",
      "source": [
        "# month which has high revenue\n",
        "reindex = ['January', 'February','April','May','June','July','August','September','October','November','December']\n",
        "df_eda['arrival_date_month'] = pd.Categorical(df_eda['arrival_date_month'],categories=reindex,ordered=True)\n",
        "plt.figure(figsize = (15,8))\n",
        "sns.boxplot(x = df_eda['arrival_date_month'],y = df_eda['adr'])\n",
        "plt.show()"
      ],
      "metadata": {
        "colab": {
          "base_uri": "https://localhost:8080/",
          "height": 498
        },
        "id": "YnihZj38ACTK",
        "outputId": "749d174c-12ba-4334-fd37-17f0eaa5362d"
      },
      "execution_count": null,
      "outputs": [
        {
          "output_type": "display_data",
          "data": {
            "text/plain": [
              "<Figure size 1080x576 with 1 Axes>"
            ],
            "image/png": "[encoded data removed]"
          },
          "metadata": {
            "needs_background": "light"
          }
        }
      ]
    },
    {
      "cell_type": "markdown",
      "source": [
        "August month give most revenue"
      ],
      "metadata": {
        "id": "qS2xuo30BU0m"
      }
    },
    {
      "cell_type": "code",
      "source": [
        "# arrival_num and avg adr for each day of month.\n",
        "not_canceled=df_eda[df_eda.is_canceled==0]\n",
        "d6 = pd.DataFrame(not_canceled.groupby('arrival_date_day_of_month').size()).rename(columns = {0:'Arrival_num'})\n",
        "d6['avg_adr'] = not_canceled.groupby('arrival_date_day_of_month')['adr'].agg(np.mean)\n",
        "fig, axes = plt.subplots(1, 2, figsize=(18, 8))\n",
        "\n",
        "# Plotting arrival num for each day of month\n",
        "g = sns.lineplot(ax = axes[0],x = d6.index, y = d6['Arrival_num'])\n",
        "g.grid()\n",
        "g.set_xticks([1,7,14,21,28,31])\n",
        "g.set_xticklabels([1,7,14,21,28,31])\n",
        "\n",
        "# Plotting avg adr for each day of month\n",
        "h = sns.lineplot(ax = axes[1],x = d6.index, y = d6['avg_adr'])\n",
        "h.grid()\n",
        "h.set_xticks([1,7,14,21,28,31])\n",
        "h.set_xticklabels([1,7,14,21,28,31])\n",
        "\n",
        "plt.show()"
      ],
      "metadata": {
        "colab": {
          "base_uri": "https://localhost:8080/",
          "height": 443
        },
        "id": "A2R1B1xGBsF0",
        "outputId": "4256a32b-db76-4fa4-802f-c1c386312eb0"
      },
      "execution_count": null,
      "outputs": [
        {
          "output_type": "display_data",
          "data": {
            "text/plain": [
              "<Figure size 1296x576 with 2 Axes>"
            ],
            "image/png": "[encoded data removed]"
          },
          "metadata": {
            "needs_background": "light"
          }
        }
      ]
    },
    {
      "cell_type": "markdown",
      "source": [
        "1. first and last week have usually more number of arrivals.\n",
        "2. Last week of month usually give more revenue."
      ],
      "metadata": {
        "id": "TjTyhpVmT9Kl"
      }
    },
    {
      "cell_type": "code",
      "source": [
        "# single, couple and family and check their booking %\n",
        "\n",
        "# Select single, couple, multiple adults and family\n",
        "single   = not_canceled[(not_canceled['adults']==1) & (not_canceled['children']==0) & (not_canceled['babies']==0)]\n",
        "couple   = not_canceled[(not_canceled['adults']==2) & (not_canceled['children']==0) & (not_canceled['babies']==0)]\n",
        "family   = not_canceled[not_canceled['adults'] + not_canceled['children'] + not_canceled['babies'] > 2]\n",
        "\n",
        "reindex = ['January', 'February','March','April','May','June','July','August','September','October','November','December']\n",
        "\n",
        "fig, ax = plt.subplots(figsize=(12, 8))\n",
        "\n",
        "for type in ['single', 'couple', 'family']:\n",
        "  d1 = eval(type).groupby(['arrival_date_month']).size().reset_index().rename(columns = {0:'arrival_num'})\n",
        "  d1['arrival_date_month'] = pd.Categorical(d1['arrival_date_month'],categories=reindex,ordered=True)\n",
        "  sns.lineplot(data=d1, x= 'arrival_date_month', y='arrival_num', label=type, ax=ax)\n",
        "\n",
        "plt.grid()\n",
        "plt.show()"
      ],
      "metadata": {
        "colab": {
          "base_uri": "https://localhost:8080/",
          "height": 498
        },
        "id": "CN9YI8AACf-f",
        "outputId": "0b263c53-83aa-4d02-f9e9-3c886af2339e"
      },
      "execution_count": null,
      "outputs": [
        {
          "output_type": "display_data",
          "data": {
            "text/plain": [
              "<Figure size 864x576 with 1 Axes>"
            ],
            "image/png": "[encoded data removed]"
          },
          "metadata": {
            "needs_background": "light"
          }
        }
      ]
    },
    {
      "cell_type": "markdown",
      "source": [
        "1. Couples are used to have more Hotel Bookings.\n",
        "2. August month have more booking for  couple and family catagories.\n",
        "3. Single people used to do mostly booking in October and November."
      ],
      "metadata": {
        "id": "c272ZiezUVUK"
      }
    },
    {
      "cell_type": "code",
      "source": [
        "num_df1 = df_eda[['booking_changes','days_in_waiting_list','previous_cancellations','previous_bookings_not_canceled','lead_time','total_stay','total_people','required_car_parking_spaces','total_of_special_requests']]\n",
        "#correlation matrix\n",
        "cor_mat = num_df1.corr()\n",
        "f, ax = plt.subplots(figsize=(12, 7))\n",
        "cmap = \"tab20\"\n",
        "sns.heatmap(cor_mat,cmap=cmap,annot = True,fmt='.2f', annot_kws={'size': 10},  vmax=.8, square=True,linewidth=.5);"
      ],
      "metadata": {
        "colab": {
          "base_uri": "https://localhost:8080/",
          "height": 586
        },
        "id": "pmSMO9d-Czm1",
        "outputId": "d8d84aa0-3045-40ca-c159-4fbfbf6313a1"
      },
      "execution_count": null,
      "outputs": [
        {
          "output_type": "display_data",
          "data": {
            "text/plain": [
              "<Figure size 864x504 with 2 Axes>"
            ],
            "image/png": "[encoded data removed]"
          },
          "metadata": {
            "needs_background": "light"
          }
        }
      ]
    },
    {
      "cell_type": "markdown",
      "source": [
        "From the correlation plot we can say there are not strong correlation between any two features and we can say these features are mutually exclusive features"
      ],
      "metadata": {
        "id": "T40MfcHpVvBt"
      }
    },
    {
      "cell_type": "code",
      "source": [],
      "metadata": {
        "id": "7pIOdkoaWE_L"
      },
      "execution_count": null,
      "outputs": []
    }
  ],
  "metadata": {
    "colab": {
      "provenance": []
    },
    "kernelspec": {
      "display_name": "Python 3",
      "name": "python3"
    },
    "language_info": {
      "name": "python"
    }
  },
  "nbformat": 4,
  "nbformat_minor": 0
}